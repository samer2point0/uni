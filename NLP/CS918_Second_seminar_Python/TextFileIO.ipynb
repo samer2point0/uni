{
 "cells": [
  {
   "cell_type": "markdown",
   "metadata": {},
   "source": [
    "# Filesystem IO in python\n",
    "\n",
    "Often, the text we want to work with comes in a raw .txt format. Take for example the [Cornell movie review dataset](http://www.cs.cornell.edu/people/pabo/movie-review-data/review_polarity.tar.gz).\n",
    "\n",
    "We can download the above archive, extract it and read a single review very easily."
   ]
  },
  {
   "cell_type": "code",
   "execution_count": null,
   "metadata": {},
   "outputs": [],
   "source": [
    "with open(\"Datasets/review_polarity/txt_sentoken/neg/cv001_19502.txt\") as f:\n",
    "    text = f.read()\n",
    "    \n",
    "print(text)"
   ]
  },
  {
   "cell_type": "markdown",
   "metadata": {},
   "source": [
    "Reading a whole file in a single operation may not be practical if the file is large or you wish to operate on it iteratively (i.e. line by line). Python provides a readlines() function which reads text files line-by-line in a lazy way (i.e. it uses yield for each line) so that you can operate on the file on a per line basis without reading the whole file into memory at once."
   ]
  },
  {
   "cell_type": "code",
   "execution_count": null,
   "metadata": {},
   "outputs": [],
   "source": [
    "with open(\"Datasets/review_polarity/txt_sentoken/neg/cv001_19502.txt\") as f:\n",
    "    for line in f.readlines():\n",
    "        print (line)\n",
    "    "
   ]
  },
  {
   "cell_type": "markdown",
   "metadata": {},
   "source": [
    "This is great for reading one or two files at a time. However, what if you have a whole directory or subdirectory structure to process? You don't want to be typing in all the file names.\n",
    "\n",
    "That's where the `os` module and specifically `os.walk` function can help. `os` provides interfaces for interacting with the filesystem and processes running on the machine. `os.walk` allows us to recursively navigate a directory tree and inspect all files within that structure. All we need is to specify where to start."
   ]
  },
  {
   "cell_type": "code",
   "execution_count": null,
   "metadata": {},
   "outputs": [],
   "source": [
    "import os\n",
    "\n",
    "for root, dirs, files in os.walk(\"Datasets/review_polarity/\"):\n",
    "    # this outer loop iterates over each subdirectory - \n",
    "    # and updates 'root' with the current directory being nagivated.\n",
    "    print(\"\\n--> Current root: \", root)\n",
    "    \n",
    "    #inside each subdirectory we get lists of sub-subdirectories (dirs that reside in the current root)\n",
    "    for directory in dirs:\n",
    "        print (\"DIR  \", directory)\n",
    "        \n",
    "    #we also get a list of files in each sub-directory too (files inside the current root dir)\n",
    "    for file in files:\n",
    "        print(\"FILE \", file)\n",
    "        "
   ]
  },
  {
   "cell_type": "markdown",
   "metadata": {},
   "source": [
    "What if we are only interested in a specific set of files or directories? We can filter the filenames as we process them and match them with rules. Let's assume that we only want text files."
   ]
  },
  {
   "cell_type": "code",
   "execution_count": null,
   "metadata": {},
   "outputs": [],
   "source": [
    "for root, dirs, files in os.walk(\"Datasets/review_polarity/\"):    \n",
    "    #although we have root and dirs variables - doing anything with them is optional.\n",
    "    #we're just interested in files - specifically .txt files\n",
    "    \n",
    "    for file in files:\n",
    "        if file.endswith(\".txt\"):\n",
    "            print(file)"
   ]
  },
  {
   "cell_type": "markdown",
   "metadata": {},
   "source": [
    "That's great. Now how do we get access to the data in these files? We don't know their full path only their basic filename (i.e. we know cv723_8648.txt but we don't know its actually Datasets/review_polarity/txt_sentoken/neg/cv723_8648.txt).\n",
    "\n",
    "That's where `os.path.join` comes into play. This can be used to join file paths in an OS independent way and it takes care of where to put slash characters for you. \n",
    "\n",
    "We know that the current value of `root` holds the full directory path to the file and we know that `file` holds the filename so we can do this:"
   ]
  },
  {
   "cell_type": "code",
   "execution_count": null,
   "metadata": {},
   "outputs": [],
   "source": [
    "for root, dirs, files in os.walk(\"Datasets/review_polarity/\"):    \n",
    "    #although we have root and dirs variables - doing anything with them is optional.\n",
    "    #we're just interested in files - specifically .txt files\n",
    "    \n",
    "    for file in files:\n",
    "        if file.endswith(\".txt\"):\n",
    "            print(\"\\nRoot: \", root)\n",
    "            print(os.path.join(root,file))"
   ]
  },
  {
   "cell_type": "markdown",
   "metadata": {},
   "source": [
    "Now we can read in all of the lines in the files. Lets find out how many lines there are in total across all of the reviews."
   ]
  },
  {
   "cell_type": "code",
   "execution_count": null,
   "metadata": {},
   "outputs": [],
   "source": [
    "import os\n",
    "linecount = 0\n",
    "for root, dirs, files in os.walk(\"Datasets/review_polarity/\"):    \n",
    "    #although we have root and dirs variables - doing anything with them is optional.\n",
    "    #we're just interested in files - specifically .txt files\n",
    "    \n",
    "    for file in files:\n",
    "        if file.endswith(\".txt\"):\n",
    "            with open(os.path.join(root,file)) as f:\n",
    "                for line in f.readlines():\n",
    "                    linecount += 1\n",
    "                    \n",
    "print(\"Total lines in all txt files\", linecount)"
   ]
  },
  {
   "cell_type": "markdown",
   "metadata": {},
   "source": [
    "### Writing a file"
   ]
  },
  {
   "cell_type": "code",
   "execution_count": null,
   "metadata": {},
   "outputs": [],
   "source": [
    "with open('Datasets/review_polarity/fake.txt', 'w') as file:  # Use file to refer to the file object\n",
    "    file.write('Fake review!')"
   ]
  },
  {
   "cell_type": "markdown",
   "metadata": {},
   "source": [
    "## Conclusion\n",
    "\n",
    "We are now able to process directory trees containing multiple files of text data and filter out any files that do not contain relevent information. We can read in a file in one chunk or incrementally line-by-line."
   ]
  }
 ],
 "metadata": {
  "kernelspec": {
   "display_name": "Python 3",
   "language": "python",
   "name": "python3"
  },
  "language_info": {
   "codemirror_mode": {
    "name": "ipython",
    "version": 3
   },
   "file_extension": ".py",
   "mimetype": "text/x-python",
   "name": "python",
   "nbconvert_exporter": "python",
   "pygments_lexer": "ipython3",
   "version": "3.5.2"
  }
 },
 "nbformat": 4,
 "nbformat_minor": 1
}
