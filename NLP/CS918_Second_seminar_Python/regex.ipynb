{
 "cells": [
  {
   "cell_type": "markdown",
   "metadata": {},
   "source": [
    "# Regular expressions and Python"
   ]
  },
  {
   "cell_type": "markdown",
   "metadata": {},
   "source": [
    "Regular expressions are a formalism for extracting structured information from unstructured text. \n",
    "Using this formalism we can specify a pattern to match the target strings which will be selected based on their structure. <br>\n",
    "For example, we might be interested in filtering all the strings which contain at least one number; the regular expressions help us in specifying and detecting such strings.\n",
    "\n",
    "In this chapter, we introduce the python `re` module and try and identify a list of figures in a scientific paper and the number of times each one is mentioned.\n",
    "\n",
    "## Regular expression formalism\n",
    "\n",
    "Regular expressions are used to express text in a generic way so that we can match patterns that crop up in long strings of information. \n",
    "\n",
    "We will focus on a few basic concepts:\n",
    "<table>\n",
    "<tr>\n",
    "    <th>Expression</th>\n",
    "    <th>Meaning</th>\n",
    "    <th>Examples that match</th>\n",
    "    <th>Examples that don't match</th>\n",
    "</tr>\n",
    "<tr>\n",
    "<td>[A-Z]</td>\n",
    "<td>Matches any character A-Z</td>\n",
    "<td>A, B, C</td>\n",
    "<td>a, AA, 0,</td>\n",
    "</tr>\n",
    "<tr>\n",
    "<td>[A-Z]+</td>\n",
    "<td>Matches any character A-Z 1-to-many times</td>\n",
    "<td>A,AA, AAA, AAB, ABCD, JAMES, COFFEE, SPAM</td>\n",
    "<td>a, aaa, james, coffee, Coffee or emptystring</td>\n",
    "</tr>\n",
    "<tr>\n",
    "<td>[A-Za-z]+</td>\n",
    "<td>Matches any character A-Z or a-z 1-to-many times</td>\n",
    "<td>James, Aa, Abc</td>\n",
    "<td>Test123, C O F F E E</td>\n",
    "</tr>\n",
    "<tr>\n",
    "<td>[A-Za-z0-9]+</td>\n",
    "<td>Matches any character A-Z, a-z or 0-9 1-to-many times</td>\n",
    "<td>James, Aa, Abc, Test123</td>\n",
    "<td>C O F F E E, Coffee? Coffee!</td>\n",
    "</tr>\n",
    "</table>\n",
    "\n",
    "Let's try some of these in the language\n"
   ]
  },
  {
   "cell_type": "code",
   "execution_count": 2,
   "metadata": {
    "collapsed": false
   },
   "outputs": [
    {
     "name": "stdout",
     "output_type": "stream",
     "text": [
      "Testing if [A-Z] will match A. Result: True\n",
      "Testing if [A-Z] will match a. Result: False\n",
      "Testing if [A-Z] will match 0. Result: False\n",
      "Testing if [A-Z] will match AA. Result: True\n"
     ]
    },
    {
     "data": {
      "text/plain": [
       "<_sre.SRE_Match at 0x7fa42429e578>"
      ]
     },
     "execution_count": 2,
     "metadata": {},
     "output_type": "execute_result"
    }
   ],
   "source": [
    "import re\n",
    "\n",
    "def match(pattern, string):\n",
    "    \n",
    "    result = False\n",
    "    \n",
    "    # If zero or more characters at the beginning of string match this regular expression, \n",
    "    #  return a corresponding match object. \n",
    "    # Return None if the string does not match the pattern.\n",
    "    match = re.match(pattern,string)\n",
    "        \n",
    "    if match:\n",
    "        result = True\n",
    "    \n",
    "    print(\"Testing if {} will match {}. Result: {}\".format(pattern,string, result))\n",
    "    \n",
    "    return match\n",
    "\n",
    "\n",
    "match(\"[A-Z]\", \"A\")\n",
    "match(\"[A-Z]\", \"a\")\n",
    "match(\"[A-Z]\", \"0\")\n",
    "match(\"[A-Z]\", \"AA\")"
   ]
  },
  {
   "cell_type": "markdown",
   "metadata": {},
   "source": [
    "Why does AA match against [A-Z]. Well it doesn't really. Let's examine the \"substring\" that python matched.\n"
   ]
  },
  {
   "cell_type": "code",
   "execution_count": null,
   "metadata": {
    "collapsed": true
   },
   "outputs": [],
   "source": [
    "result = match(\"[A-Z]\", \"AA\")\n",
    "\n",
    "print(\"Matched against substring '{}'\".format(result.group(0)))"
   ]
  },
  {
   "cell_type": "markdown",
   "metadata": {},
   "source": [
    "So as you can see, it has matched only the first A in the string \"AA\". This is correct behaviour because A does belong to the string [A-Z] but we did not specify a '+' to match one-or-more so it has only returned the first instance.\n",
    "\n",
    "Let's try with [A-Z]+"
   ]
  },
  {
   "cell_type": "code",
   "execution_count": 6,
   "metadata": {
    "collapsed": false
   },
   "outputs": [
    {
     "name": "stdout",
     "output_type": "stream",
     "text": [
      "Testing if [A-Z]+ will match A. Result: True\n",
      "Testing if [A-Z]+ will match a. Result: False\n",
      "Testing if [A-Z]+ will match 0. Result: False\n",
      "\n",
      "Testing if [A-Z]+ will match AA. Result: True\n",
      "Matched against substring 'AA'\n",
      "\n",
      "Testing if [A-Z]+ will match C O F F E E. Result: True\n",
      "Matched against substring 'C'\n",
      "\n",
      "Testing if [A-Z]+ will match James. Result: True\n",
      "Matched against substring 'J'\n"
     ]
    }
   ],
   "source": [
    "match(\"[A-Z]+\", \"A\")\n",
    "match(\"[A-Z]+\", \"a\")\n",
    "match(\"[A-Z]+\", \"0\")\n",
    "\n",
    "print(\"\")\n",
    "result = match(\"[A-Z]+\", \"AA\")\n",
    "print(\"Matched against substring '{}'\\n\".format(result.group(0)))\n",
    "\n",
    "result = match(\"[A-Z]+\", \"C O F F E E\")\n",
    "print(\"Matched against substring '{}'\\n\".format(result.group(0)))\n",
    "\n",
    "result = match(\"[A-Z]+\", \"James\")\n",
    "print(\"Matched against substring '{}'\".format(result.group(0)))"
   ]
  },
  {
   "cell_type": "markdown",
   "metadata": {},
   "source": [
    "This time the system matches the whole substring AA when it encounters multiple characters together. The system correctly matches the 'C' in \"C O F F E E\" having matched 1-to-many capital letters returns success once it encounters a space. Similarly in James it matches the capital 'J' and returns success J fulfils the requirement of 1-to-many capitals.\n",
    "\n",
    "## More examples of regular expression syntax\n",
    "\n",
    "An exhaustive list of regular expressions would be very long to be reported here. To find out more about what Python supports, check out [the documentation page](https://docs.python.org/3/library/re.html#regular-expression-syntax) on regular expressions.\n",
    "\n",
    "Here are a few more examples that are useful for the following exercises.\n",
    "\n",
    "<table>\n",
    "<tr>\n",
    "<th>Regular Expression</th>\n",
    "<th>Meaning</th>\n",
    "</tr>\n",
    "<tr>\n",
    "<td>.</td>\n",
    "<td>Match any non-whitespace character. That's a bit like creating a square brackets expression like [A-Za-z0-9] but also includes punctuation marks.</td>\n",
    "</tr>\n",
    "<tr>\n",
    "<td>\\*</td>\n",
    "<td>Match 0-many of the preceeding pattern. For example .* would match any number of non-whitespace characters including no input at all.</td>\n",
    "</tr>\n",
    "<tr>\n",
    "<td>?</td>\n",
    "<td>Match the preceeding pattern 0-1 times. This is great for specifying that something is optional.</td>\n",
    "</tr>\n",
    "<tr>\n",
    "<td>\\s</td>\n",
    "<td>Matches whitespace characters - space, tab and newline if MULTILINE patterns are enabled.</td>\n",
    "</tr>\n",
    "</table>\n",
    "\n",
    "## Real world application.\n",
    "\n",
    "Let's find out how many figures there are in the ART corpus (https://www.aber.ac.uk/en/cs/research/cb/projects/art/art-corpus/) and how many times they are referenced. We will read a Pickle file, previosly prepared, with filenames, id and text of sentence of the corpus.\n",
    "\n",
    "### Loading and parsing all ART corpus papers"
   ]
  },
  {
   "cell_type": "code",
   "execution_count": null,
   "metadata": {
    "collapsed": true
   },
   "outputs": [],
   "source": [
    "import pickle\n",
    "\n",
    "# Load the dataset previously saved as Pickle file\n",
    "# 'all_sentences' is a list of tuples (filenames, id and text) for each sentence.\n",
    "all_sentences = []\n",
    "with open(\"Datasets/art_dataset.pickle\",\"rb\") as f:\n",
    "    all_sentences = pickle.load(f)  \n",
    "\n",
    "\n",
    "print (\"Number of sentences loaded: \",len(all_sentences))\n",
    "for s in all_sentences[:3]:\n",
    "    print(\"\\nS: \", s)"
   ]
  },
  {
   "cell_type": "markdown",
   "metadata": {},
   "source": [
    "### Defining a regular expression\n",
    "\n",
    "Now, we are interested in finding out where the authors talk about Figures in the papers. Depending on their writing style, some authors use \"Figure 1\", some use \"Fig. 1\" an some use \"Fig 1\" (without dot). We should check and account for each of these.\n",
    "\n",
    "Also, sometimes figures have subfigures (i.e. Fig 1.A or 1.B), so we need to match for these too."
   ]
  },
  {
   "cell_type": "code",
   "execution_count": 4,
   "metadata": {
    "collapsed": false
   },
   "outputs": [
    {
     "name": "stdout",
     "output_type": "stream",
     "text": [
      "<_sre.SRE_Match object at 0x7fa426bf5750>\n",
      "<_sre.SRE_Match object at 0x7fa426bf5750>\n",
      "<_sre.SRE_Match object at 0x7fa426bf5750>\n",
      "<_sre.SRE_Match object at 0x7fa426bf5750>\n"
     ]
    }
   ],
   "source": [
    "pattern = \"Fig(ure)?.?\\s+([0-9A-B]([A-Za-z0-9])*)\"\n",
    "\n",
    "\n",
    "print (re.match(pattern, \"Fig. 1\"))\n",
    "print (re.match(pattern, \"Fig 1\"))\n",
    "print (re.match(pattern, \"Figure 1\"))\n",
    "print (re.match(pattern, \"Fig 1.A\"))\n",
    "\n",
    "#pattern = \"Fig(ure)?.?\\s+([0-9A-B](\\.[A-Za-z0-9])*)\"\n",
    "#print (re.fullmatch(pattern, \"Fig 1.A\"))"
   ]
  },
  {
   "cell_type": "markdown",
   "metadata": {},
   "source": [
    "You may wonder about all the extra brackets in these expressions. Parenthesis allow you to define \"groups\" to capture as variables and also define sub-patterns. Notice we use the brackets around 'ure' and a ? in Figure to express the fact that the ure in Figure is optional (the author might just say \"Fig\"). \n",
    "\n",
    "We also put brackets around the portion that describes the figure number to allow us more flexibility. In the following, we perform a quick check of our current regular expresion:"
   ]
  },
  {
   "cell_type": "code",
   "execution_count": 5,
   "metadata": {
    "collapsed": false
   },
   "outputs": [
    {
     "name": "stdout",
     "output_type": "stream",
     "text": [
      "Whole match 'Fig. 1'\n",
      "('Figure or Fig?', None)\n",
      "Fig ID '1'\n",
      "--------------------\n",
      "Whole match 'Fig 1'\n",
      "('Figure or Fig?', None)\n",
      "Fig ID '1'\n",
      "--------------------\n",
      "Whole match 'Figure 1'\n",
      "('Figure or Fig?', 'ure')\n",
      "Fig ID '1'\n",
      "--------------------\n",
      "Whole match 'Fig. 1'\n",
      "('Figure or Fig?', None)\n",
      "Fig ID '1'\n",
      "--------------------\n",
      "Whole match 'Figure 2'\n",
      "('Figure or Fig?', 'ure')\n",
      "Fig ID '2'\n",
      "--------------------\n",
      "Whole match 'Figure. 3'\n",
      "('Figure or Fig?', 'ure')\n",
      "Fig ID '3'\n",
      "--------------------\n"
     ]
    }
   ],
   "source": [
    "tests = [\"Fig. 1\", \"Fig 1\", \"Figure 1\", \"Fig. 1.A\", \"Figure 2.C\", \"Figure. 3.2\"]\n",
    "\n",
    "for t in tests:\n",
    "    m = re.match(pattern,t)\n",
    "    \n",
    "    if not m:\n",
    "        print(\"Test failed for \", t)\n",
    "    else:\n",
    "        print (\"Whole match '{}'\".format( m.group(0)))\n",
    "        print (\"Figure or Fig?\", m.group(1))\n",
    "        print (\"Fig ID '{}'\".format(m.group(2)))\n",
    "        print(\"--------------------\")"
   ]
  },
  {
   "cell_type": "markdown",
   "metadata": {},
   "source": [
    "The `re.match` and `re.search` functions both return a `Match` object or `None` if the regex failed. Match objects have a group function that allows you to extract groups denoted by `()` in your expressions. \n",
    "\n",
    "Group 0 always returns the string that matched the whole expression from start to end. \n",
    "\n",
    "This pattern seems robust enough. Let's find out how many times figures are brought up in papers in the ART corpus."
   ]
  },
  {
   "cell_type": "code",
   "execution_count": null,
   "metadata": {
    "collapsed": true
   },
   "outputs": [],
   "source": [
    "from collections import Counter\n",
    "\n",
    "# Creting a dictionary made of Counters\n",
    "# A Counter is like a dictionary but associating to each key a counter\n",
    "figs = { filename:Counter() for filename,id,text in all_sentences}    \n",
    "\n",
    "# Example of Counter usage\n",
    "# Counter(['blue', 'red', 'blue', 'yellow', 'blue', 'red'])\n",
    "# Counter({'blue': 3, 'red': 2, 'yellow': 1})\n",
    "\n",
    "\n",
    "# Return a list of figures mentioned in \"sent\"\n",
    "def match_sent(sent):\n",
    "    filename,id,text = sent\n",
    "    sfigs = []\n",
    "    \n",
    "    # \"findall()\" returns all non-overlapping matches of pattern in string, as a list of strings. \n",
    "    # The string is scanned left-to-right, and matches are returned in the order found. \n",
    "    for m in re.findall(pattern, text):\n",
    "        sfigs.append(m[1])\n",
    "        \n",
    "    return filename,id,sfigs\n",
    "\n",
    "\n",
    "for filename,id,sentfigs in map(match_sent, all_sentences):\n",
    "    # For each filaname, update when a particular figure is mentionated in a sentence.\n",
    "    figs[filename].update(sentfigs)\n",
    "    \n",
    "    print(sentfigs)"
   ]
  },
  {
   "cell_type": "code",
   "execution_count": null,
   "metadata": {
    "collapsed": true
   },
   "outputs": [],
   "source": [
    "for file in figs:\n",
    "    print(\"\\nFile \", file)\n",
    "    print(\"References to figures...: \")\n",
    "    print(figs[file])\n",
    "\n",
    "        "
   ]
  },
  {
   "cell_type": "markdown",
   "metadata": {},
   "source": [
    "So, now we know which papers have which figures and we can find out which paper has highest number of difference cited figures and which one references figures the most.\n"
   ]
  },
  {
   "cell_type": "code",
   "execution_count": null,
   "metadata": {
    "collapsed": true
   },
   "outputs": [],
   "source": [
    "sorted_figs_by_refcount = [ (x, sum( figs[x].values())) for x in \n",
    "               sorted(figs, key=lambda x: sum( figs[x].values()), reverse=True ) ] \n",
    "\n",
    "sorted_figs_by_variety = [ (x, len(figs[x])) for x in \n",
    "               sorted(figs, key=lambda x: len( figs[x] ), reverse=True ) ] \n",
    "\n",
    "print(\"Top 5 papers by number of references to figures (frequency)\")\n",
    "for paper,count in sorted_figs_by_refcount[0:5]:\n",
    "    print(\"Title: {} Count: {}\".format(paper,count))\n",
    "print(\"\\n\\n\")\n",
    "print(\"Top 5 papers by number of different figures in paper (variance)\")\n",
    "for paper,count in sorted_figs_by_variety[0:5]:\n",
    "    print(\"Title: {} Count: {}\".format(paper,count))\n",
    "    \n",
    "    \n"
   ]
  },
  {
   "cell_type": "markdown",
   "metadata": {},
   "source": [
    "## Conclusion\n",
    "\n",
    "We have used regular expressions to parse semi-structured data inside the ART Corpus and determine which of the papers have the most diverse and most frequent references to figures."
   ]
  }
 ],
 "metadata": {
  "kernelspec": {
   "display_name": "Python 2",
   "language": "python",
   "name": "python2"
  },
  "language_info": {
   "codemirror_mode": {
    "name": "ipython",
    "version": 2
   },
   "file_extension": ".py",
   "mimetype": "text/x-python",
   "name": "python",
   "nbconvert_exporter": "python",
   "pygments_lexer": "ipython2",
   "version": "2.7.5"
  }
 },
 "nbformat": 4,
 "nbformat_minor": 1
}
