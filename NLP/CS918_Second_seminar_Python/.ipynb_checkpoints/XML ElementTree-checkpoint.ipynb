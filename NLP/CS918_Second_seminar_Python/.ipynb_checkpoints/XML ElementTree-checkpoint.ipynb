{
 "cells": [
  {
   "cell_type": "markdown",
   "metadata": {},
   "source": [
    "# Python Element Tree\n",
    "\n",
    "In natural language processing, working with XML is something that you have to do very regularly. Luckily, Python provides very powerful tools for processing and manipulating documents. In this exercise we look at the `xml.etree.ElementTree` module. as with many of the previous exercises, we will only look at a subset of the features available. Please read the [full documentation](https://docs.python.org/2/library/xml.etree.elementtree.html) for deeper understanding.\n",
    "\n",
    "## Parsing a document\n",
    "\n",
    "Parsing is very easy. All you need is the filename of the document you want to read.\n",
    "\n",
    "We will parse a scientific paper from the [ART corpus](https://www.aber.ac.uk/en/cs/research/cb/projects/art/art-corpus/) that has been annotated by hand and split into a series of sentences. Each sentence's boundaries are represented with a `<s></s>`. If you want to examine the paper you can view it [here](assets/b414459g_mode2.xml).\n"
   ]
  },
  {
   "cell_type": "code",
   "execution_count": null,
   "metadata": {},
   "outputs": [],
   "source": [
    "import xml.etree.ElementTree as ET\n",
    "\n",
    "#open and parse the paper\n",
    "tree = ET.parse(\"assets/b414459g_mode2.xml\")\n",
    "root = tree.getroot()\n",
    "\n",
    "#lets find all sentences in the paper\n",
    "sentences = 0\n",
    "for sentEl in root.iter(\"s\"):\n",
    "    sentences += 1\n",
    "    \n",
    "print(\"There are {} sentences in this document\".format(sentences))"
   ]
  },
  {
   "cell_type": "markdown",
   "metadata": {},
   "source": [
    "## Getting text\n",
    "\n",
    "### text attribute\n",
    "Text inside an element is represented using the `element.text` attribute. Lets find what some of the sentences in our paper say.\n",
    "\n",
    "If you recall from looking at the [paper](assets/b414459g_mode2.xml) earlier. You will have noticed that the actual text in each sentence is wrapped inside an element called `<annotationART>`. \n",
    "\n",
    "Don't worry about what this means for now. However, we will have to create variables for annotationART in order to get hold of the text inside."
   ]
  },
  {
   "cell_type": "code",
   "execution_count": null,
   "metadata": {},
   "outputs": [],
   "source": [
    "#lets work with the first 5 sentences for demo purposes\n",
    "for sent in list(root.iter(\"s\"))[0:5]:\n",
    "    annoArt = sent.find('annotationART')\n",
    "    print (\"-----------------\")\n",
    "    print (annoArt.text)"
   ]
  },
  {
   "cell_type": "markdown",
   "metadata": {},
   "source": [
    "### Itertext\n",
    "\n",
    "There is in fact an easier way to get all text inside an element and its child nodes. The `itertext()` method will iterate through each of the element's child nodes and aggregate any text it finds"
   ]
  },
  {
   "cell_type": "code",
   "execution_count": null,
   "metadata": {},
   "outputs": [],
   "source": [
    "#lets work with the first 5 sentences for demo purposes\n",
    "for sent in list(root.iter(\"s\"))[0:5]:\n",
    "    print (\"\".join(sent.itertext()))"
   ]
  },
  {
   "cell_type": "markdown",
   "metadata": {},
   "source": [
    "## Element attributes\n",
    "\n",
    "Attributes of elements are stored in the element as a dict. You can get an attribute using `element.get()` as in the following example where we print the ID of the first 5 sentences:"
   ]
  },
  {
   "cell_type": "code",
   "execution_count": null,
   "metadata": {},
   "outputs": [],
   "source": [
    "#lets work with the first 5 sentences for demo purposes\n",
    "for sent in list(root.iter(\"s\"))[0:5]:\n",
    "    print (sent.get(\"sid\"))"
   ]
  },
  {
   "cell_type": "markdown",
   "metadata": {},
   "source": [
    "## Putting it all together\n",
    "\n",
    "Remember annotationART from earlier? that element has a \"type\" attribute that holds one of 11 possible values that tell you what type of sentence this is in the context of a scientific paper. For example, the sentence could be background information, telling you more about previous works. It could be a hypothesis, explaining what result is expected after the experiment is carried out. For more information on this annotation scheme, CoreSC, you can read [this paper by Liakata et al. 2010](http://www.lrec-conf.org/proceedings/lrec2010/pdf/644_Paper.pdf).\n",
    "\n",
    "Lets extract a list of sentences and their respective CoreSC designation using ETree."
   ]
  },
  {
   "cell_type": "code",
   "execution_count": null,
   "metadata": {},
   "outputs": [],
   "source": [
    "sents = []\n",
    "\n",
    "for sent in root.iter(\"s\"):\n",
    "    annoArt = sent.find('annotationART')\n",
    "    id = sent.get(\"sid\")\n",
    "    text = \"\".join(annoArt.itertext())\n",
    "    coreSC = annoArt.get(\"type\")\n",
    "    sents.append( (id, text,coreSC) )\n",
    "\n",
    "#lets work with the first 5 sentences for demo purposes\n",
    "for sent_tuple in sents[0:5]:\n",
    "    print (\"Sentence {0}. Type: {2}. Text: {1}\\n\".format(*sent_tuple))"
   ]
  },
  {
   "cell_type": "markdown",
   "metadata": {},
   "source": [
    "## Conclusion\n",
    "\n",
    "ElementTree presents you with a \"swiss army knife\" of tools for working with XML in Python. In this example we only discussed reading existing documents but the library can also be used to generate new XML documents too. To find out how to do this read the [full documentation](https://docs.python.org/2/library/xml.etree.elementtree.html).\n",
    "\n",
    "Next we look at [matplotlib](matplotlib.ipynb)"
   ]
  },
  {
   "cell_type": "code",
   "execution_count": null,
   "metadata": {
    "collapsed": true
   },
   "outputs": [],
   "source": []
  }
 ],
 "metadata": {
  "kernelspec": {
   "display_name": "Python 3",
   "language": "python",
   "name": "python3"
  },
  "language_info": {
   "codemirror_mode": {
    "name": "ipython",
    "version": 3
   },
   "file_extension": ".py",
   "mimetype": "text/x-python",
   "name": "python",
   "nbconvert_exporter": "python",
   "pygments_lexer": "ipython3",
   "version": "3.5.2"
  }
 },
 "nbformat": 4,
 "nbformat_minor": 1
}
