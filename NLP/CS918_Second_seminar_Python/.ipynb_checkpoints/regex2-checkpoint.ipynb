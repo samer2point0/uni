{
 "cells": [
  {
   "cell_type": "markdown",
   "metadata": {},
   "source": [
    "# Regular expressions and Python"
   ]
  },
  {
   "cell_type": "markdown",
   "metadata": {},
   "source": [
    "Regular expressions provide the programmer with a reliable and repeatable way of extracting structured information from unstructured text, this hinges on there being some sort of consistent structure for analysis within the text.\n",
    "\n",
    "In this chapter we introduce the python `re` module and try and identify a list of figures in a scientific paper and the number of times each one is mentioned.\n",
    "\n",
    "## Regular expression language\n",
    "\n",
    "Regular expressions are used to express text in a generic way so that we can match patterns that crop up in long strings of information. \n",
    "\n",
    "We will focus on a few basic concepts:\n",
    "<table>\n",
    "<tr>\n",
    "    <th>Expression</th>\n",
    "    <th>Meaning</th>\n",
    "    <th>Examples that match</th>\n",
    "    <th>Examples that don't match</th>\n",
    "</tr>\n",
    "<tr>\n",
    "<td>[A-Z]</td>\n",
    "<td>Matches any character A-Z</td>\n",
    "<td>A, B, C</td>\n",
    "<td>a, AA, 0,</td>\n",
    "</tr>\n",
    "<tr>\n",
    "<td>[A-Z]+</td>\n",
    "<td>Matches any character A-Z 1-to-many times</td>\n",
    "<td>A,AA, AAA, AAB, ABCD, JAMES, COFFEE, SPAM</td>\n",
    "<td>a, aaa, james, coffee, Coffee or emptystring</td>\n",
    "</tr>\n",
    "<tr>\n",
    "<td>[A-Za-z]+</td>\n",
    "<td>Matches any character A-Z or a-z 1-to-many times</td>\n",
    "<td>James, Aa, Abc</td>\n",
    "<td>Test123, C O F F E E</td>\n",
    "</tr>\n",
    "<tr>\n",
    "<td>[A-Za-z0-9]+</td>\n",
    "<td>Matches any character A-Z, a-z or 0-9 1-to-many times</td>\n",
    "<td>James, Aa, Abc, Test123</td>\n",
    "<td>C O F F E E, Coffee? Coffee!</td>\n",
    "</tr>\n",
    "</table>\n",
    "\n",
    "Let's try some of these in the language\n"
   ]
  },
  {
   "cell_type": "code",
   "execution_count": 1,
   "metadata": {},
   "outputs": [
    {
     "name": "stdout",
     "output_type": "stream",
     "text": [
      "Testing if [A-Z] will match A. Result: True\n",
      "Testing if [A-Z] will match a. Result: False\n",
      "Testing if [A-Z] will match 0. Result: False\n",
      "Testing if [A-Z] will match AA. Result: True\n"
     ]
    },
    {
     "data": {
      "text/plain": [
       "<_sre.SRE_Match object; span=(0, 1), match='A'>"
      ]
     },
     "execution_count": 1,
     "metadata": {},
     "output_type": "execute_result"
    }
   ],
   "source": [
    "import re\n",
    "\n",
    "def match(pattern, string):\n",
    "    \n",
    "    result = False\n",
    "    \n",
    "    match = re.match(pattern,string)\n",
    "        \n",
    "    if match:\n",
    "        result = True\n",
    "    \n",
    "    print(\"Testing if {} will match {}. Result: {}\".format(pattern,string, result))\n",
    "    \n",
    "    return match\n",
    "\n",
    "\n",
    "match(\"[A-Z]\", \"A\")\n",
    "match(\"[A-Z]\", \"a\")\n",
    "match(\"[A-Z]\", \"0\")\n",
    "match(\"[A-Z]\", \"AA\")"
   ]
  },
  {
   "cell_type": "markdown",
   "metadata": {},
   "source": [
    "Why does AA match against [A-Z]. Well it doesn't really. Let's examine the \"substring\" that python matched.\n"
   ]
  },
  {
   "cell_type": "code",
   "execution_count": 2,
   "metadata": {},
   "outputs": [
    {
     "name": "stdout",
     "output_type": "stream",
     "text": [
      "Testing if [A-Z] will match AA. Result: True\n",
      "Matched against substring 'A'\n"
     ]
    }
   ],
   "source": [
    "result = match(\"[A-Z]\", \"AA\")\n",
    "\n",
    "print(\"Matched against substring '{}'\".format(result.group(0)))"
   ]
  },
  {
   "cell_type": "markdown",
   "metadata": {},
   "source": [
    "So as you can see, it has matched only the first A in the string \"AA\". This is correct behaviour because A does belong to the string [A-Z] but we did not specify a '+' to match one-or-more so it has only returned the first instance.\n",
    "\n",
    "Let's try with [A-Z]+"
   ]
  },
  {
   "cell_type": "code",
   "execution_count": 3,
   "metadata": {},
   "outputs": [
    {
     "name": "stdout",
     "output_type": "stream",
     "text": [
      "Testing if [A-Z]+ will match A. Result: True\n",
      "Testing if [A-Z]+ will match a. Result: False\n",
      "Testing if [A-Z]+ will match 0. Result: False\n",
      "Testing if [A-Z]+ will match AA. Result: True\n",
      "Matched against substring 'AA'\n",
      "Testing if [A-Z]+ will match C O F F E E. Result: True\n",
      "Matched against substring 'C'\n",
      "Testing if [A-Z]+ will match James. Result: True\n",
      "Matched against substring 'J'\n"
     ]
    }
   ],
   "source": [
    "match(\"[A-Z]+\", \"A\")\n",
    "match(\"[A-Z]+\", \"a\")\n",
    "match(\"[A-Z]+\", \"0\")\n",
    "result = match(\"[A-Z]+\", \"AA\")\n",
    "print(\"Matched against substring '{}'\".format(result.group(0)))\n",
    "\n",
    "result = match(\"[A-Z]+\", \"C O F F E E\")\n",
    "print(\"Matched against substring '{}'\".format(result.group(0)))\n",
    "\n",
    "result = match(\"[A-Z]+\", \"James\")\n",
    "print(\"Matched against substring '{}'\".format(result.group(0)))"
   ]
  },
  {
   "cell_type": "markdown",
   "metadata": {},
   "source": [
    "This time the system matches the whole substring AA when it encounters multiple characters together. The system stumbles when it encounters 'C O F F E E'. It correctly matches the 'C' and having matched 1-to-many capital letters returns success once it encounters a space. Similarly in James it matches the capital 'J' and returns success J fulfils the requirement of 1-to-many capitals.\n",
    "\n",
    "## More examples of regular expression grammar\n",
    "\n",
    "I'm not going to create an exhaustive list of regular expressions here. If you want to find out more about what Python supports you can [read the documentation page](https://docs.python.org/3/library/re.html#regular-expression-syntax) on regular expressions.\n",
    "\n",
    "Here are a few more examples that are useful for this exercise.\n",
    "\n",
    "<table>\n",
    "<tr>\n",
    "<th>Regular Expression</th>\n",
    "<th>Meaning</th>\n",
    "</tr>\n",
    "<tr>\n",
    "<td>.</td>\n",
    "<td>Match any non-whitespace character. That's a bit like creating a square brackets expression like [A-Za-z0-9] but also includes punctuation marks.</td>\n",
    "</tr>\n",
    "<tr>\n",
    "<td>\\*</td>\n",
    "<td>Match 0-many of the preceeding pattern. For example .* would match any number of non-whitespace characters including no input at all.</td>\n",
    "</tr>\n",
    "<tr>\n",
    "<td>?</td>\n",
    "<td>Match the preceeding pattern 0-1 times. This is great for specifying that something is optional.</td>\n",
    "</tr>\n",
    "<tr>\n",
    "<td>\\s</td>\n",
    "<td>Matches whitespace characters - space, tab and newline if MULTILINE patterns are enabled.</td>\n",
    "</tr>\n",
    "</table>\n",
    "\n",
    "## Real world application.\n",
    "\n",
    "Let's find out how many figures there are in the ART corpus and how many times they are brought up. We will use our XML processing and filesystem navigation knowledge to facilitate this.\n",
    "\n",
    "### Loading and parsing all ART corpus papers\n",
    "\n",
    "Assuming we have downloaded and extracted all papers from the [CoreSC corpus(https://www.aber.ac.uk/en/cs/research/cb/projects/art/art-corpus/) to the assets folder, we can now load all of the papers and find sentences in each."
   ]
  },
  {
   "cell_type": "code",
   "execution_count": 11,
   "metadata": {},
   "outputs": [],
   "source": [
    "from xml.etree import ElementTree as ET\n",
    "import os\n",
    "\n",
    "def load_sentences(filename):\n",
    "    \n",
    "    #open and parse the paper\n",
    "    tree = ET.parse(filename)\n",
    "    root = tree.getroot()\n",
    "\n",
    "    #lets find all sentences in the paper\n",
    "    sentences = []\n",
    "    for sentEl in root.iter(\"s\"):\n",
    "        id = sentEl.get(\"sid\")\n",
    "        text = \"\".join(sentEl.itertext())\n",
    "        sentences.append((filename,id,text))\n",
    "\n",
    "    return sentences\n",
    "\n",
    "\n",
    "all_sentences = []\n",
    "for root, dirs, files in os.walk(\"ART_Corpus\"):\n",
    "    \n",
    "    for file in files:\n",
    "        if file.endswith(\".xml\"):\n",
    "            all_sentences.extend( load_sentences( os.path.join(root,file )))\n",
    "            \n",
    "print (\"Number of sentences loaded: \",len(all_sentences))\n",
    "for s in all_sentences[:10]:\n",
    "    print(\"\\nS: \", s)"
   ]
  },
  {
   "cell_type": "markdown",
   "metadata": {},
   "source": [
    "### Defining a regular expression\n",
    "\n",
    "Now we are interested in finding out where the authors of these papers talk about Figures in the papers. Depending on their writing style, some authors use Figure 1, some use Fig. 1 an Some use Fig 1 (no dot). We should try and account for each of these.\n",
    "\n",
    "Sometimes figures have subfigures (i.e. Fig 1.A or 1.B) so we need to match for these too."
   ]
  },
  {
   "cell_type": "code",
   "execution_count": 5,
   "metadata": {},
   "outputs": [
    {
     "name": "stdout",
     "output_type": "stream",
     "text": [
      "<_sre.SRE_Match object; span=(0, 6), match='Fig. 1'>\n",
      "<_sre.SRE_Match object; span=(0, 5), match='Fig 1'>\n",
      "<_sre.SRE_Match object; span=(0, 8), match='Figure 1'>\n",
      "<_sre.SRE_Match object; span=(0, 5), match='Fig 1'>\n"
     ]
    }
   ],
   "source": [
    "pattern = \"Fig(ure)?.?\\s+([0-9A-B]([A-Za-z0-9])*)\"\n",
    "\n",
    "print ( re.match(pattern,\"Fig. 1\"))\n",
    "print (re.match(pattern, \"Fig 1\"))\n",
    "print (re.match(pattern, \"Figure 1\"))\n",
    "print (re.match(pattern, \"Fig 1.A\"))"
   ]
  },
  {
   "cell_type": "markdown",
   "metadata": {},
   "source": [
    "You may wonder about all the extra brackets in these expressions. Parenthesis allow you to define \"groups\" to capture as variables and also define sub-patterns. Notice we use the brackets around 'ure' and a ? in Figure to express the fact that the ure in Figure is optional (the author might just say fig). \n",
    "\n",
    "We also put brackets around the bit of the expression that describes the figure number to allow us to capture it. Extracting this info is demonstrated below:"
   ]
  },
  {
   "cell_type": "code",
   "execution_count": 6,
   "metadata": {},
   "outputs": [
    {
     "name": "stdout",
     "output_type": "stream",
     "text": [
      "Whole match 'Fig. 1'\n",
      "Figure or Fig? None\n",
      "Fig ID '1'\n",
      "--------------------\n",
      "Whole match 'Fig 1'\n",
      "Figure or Fig? None\n",
      "Fig ID '1'\n",
      "--------------------\n",
      "Whole match 'Figure 1'\n",
      "Figure or Fig? ure\n",
      "Fig ID '1'\n",
      "--------------------\n",
      "Whole match 'Fig. 1'\n",
      "Figure or Fig? None\n",
      "Fig ID '1'\n",
      "--------------------\n",
      "Whole match 'Figure 2'\n",
      "Figure or Fig? ure\n",
      "Fig ID '2'\n",
      "--------------------\n",
      "Whole match 'Figure. 3'\n",
      "Figure or Fig? ure\n",
      "Fig ID '3'\n",
      "--------------------\n"
     ]
    }
   ],
   "source": [
    "tests = [\"Fig. 1\", \"Fig 1\", \"Figure 1\", \"Fig. 1.A\", \"Figure 2.C\", \"Figure. 3.2\"]\n",
    "\n",
    "for t in tests:\n",
    "    m = re.match(pattern,t)\n",
    "    \n",
    "    if not m:\n",
    "        print(\"Test failed for \", t)\n",
    "    else:\n",
    "        print (\"Whole match '{}'\".format( m.group(0)))\n",
    "        print (\"Figure or Fig?\", m.group(1))\n",
    "        print (\"Fig ID '{}'\".format(m.group(2)))\n",
    "        print(\"--------------------\")"
   ]
  },
  {
   "cell_type": "markdown",
   "metadata": {},
   "source": [
    "The `re.match` and `re.search` functions both return a `Match` object or `None` if the regex failed. Match objects have a group function that allows you to extract groups denoted by `()` in your expressions. \n",
    "\n",
    "Group 0 always returns the string that matched the whole expression from start to end. \n",
    "\n",
    "This pattern seems robust enough. Let's find out how many times figures are brought up in papers in the ART corpus."
   ]
  },
  {
   "cell_type": "code",
   "execution_count": 10,
   "metadata": {},
   "outputs": [
    {
     "name": "stdout",
     "output_type": "stream",
     "text": [
      "Fig:\n",
      "{'ART_Corpus/ann7/b405115g_mode2.xml': Counter(), 'ART_Corpus/ann3/b402202e_mode2.xml': Counter(), 'ART_Corpus/ann4/b315071b_mode2.xml': Counter(), 'ART_Corpus/ann8/b509164k_mode2.xml': Counter(), 'ART_Corpus/ann2/b406455k_mode2.xml': Counter(), 'ART_Corpus/ann6/b308201f_mode2.xml': Counter(), 'ART_Corpus/ann3/b314333n_mode2.xml': Counter(), 'ART_Corpus/ann6/b314764a_mode2.xml': Counter(), 'ART_Corpus/ann2/b313354k_mode2.xml': Counter(), 'ART_Corpus/ann6/b404176c_mode2.xml': Counter(), 'ART_Corpus/ann7/b414296a_mode2.xml': Counter(), 'ART_Corpus/ann2/b315069k_mode2.xml': Counter(), 'ART_Corpus/ann3/b314477a_mode2.xml': Counter(), 'ART_Corpus/ann1/b400471j_mode2.xml': Counter(), 'ART_Corpus/ann4/b404633a_mode2.xml': Counter(), 'ART_Corpus/ann1/b306684c_mode2.xml': Counter(), 'ART_Corpus/ann9/b508092d_mode2.xml': Counter(), 'ART_Corpus/ann8/b310851a_mode2.xml': Counter(), 'ART_Corpus/ann4/b315520j_mode2.xml': Counter(), 'ART_Corpus/ann9/b506790a_mode2.xml': Counter(), 'ART_Corpus/ann1/b315019d_mode2.xml': Counter(), 'ART_Corpus/ann6/b310952f_mode2.xml': Counter(), 'ART_Corpus/ann1/b403071k_mode2.xml': Counter(), 'ART_Corpus/ann3/b312196h_mode2.xml': Counter(), 'ART_Corpus/ann3/b400243a_mode2.xml': Counter(), 'ART_Corpus/ann4/b209460f_mode2.xml': Counter(), 'ART_Corpus/ann5/b312984e_mode2.xml': Counter(), 'ART_Corpus/ann7/b411989d_mode2.xml': Counter(), 'ART_Corpus/ann3/b314172a_mode2.xml': Counter(), 'ART_Corpus/ann1/b409366f_mode2.xml': Counter(), 'ART_Corpus/ann5/b409840d_mode2.xml': Counter(), 'ART_Corpus/ann7/b314644h_mode2.xml': Counter(), 'ART_Corpus/ann4/b411047a_mode2.xml': Counter(), 'ART_Corpus/ann8/b407297a_mode2.xml': Counter(), 'ART_Corpus/ann7/b405149a_mode2.xml': Counter(), 'ART_Corpus/ann7/b413535k_mode2.xml': Counter(), 'ART_Corpus/ann8/b412883d_mode2.xml': Counter(), 'ART_Corpus/ann1/b312620j_mode2.xml': Counter(), 'ART_Corpus/ann2/b411500g_mode2.xml': Counter(), 'ART_Corpus/ann2/b411757c_mode2.xml': Counter(), 'ART_Corpus/ann9/b415247f_mode2.xml': Counter(), 'ART_Corpus/ann3/b314320a_mode2.xml': Counter(), 'ART_Corpus/ann2/b313399k_mode2.xml': Counter(), 'ART_Corpus/ann1/b303919f_mode2.xml': Counter(), 'ART_Corpus/ann7/b309357n_mode2.xml': Counter(), 'ART_Corpus/ann7/b403127j_mode2.xml': Counter(), 'ART_Corpus/ann4/b408850f_mode2.xml': Counter(), 'ART_Corpus/ann4/b411977k_mode2.xml': Counter(), 'ART_Corpus/ann2/b405211k_mode2.xml': Counter(), 'ART_Corpus/ann4/b316514k_mode2.xml': Counter(), 'ART_Corpus/ann1/b402410a_mode2.xml': Counter(), 'ART_Corpus/ann2/b313781c_mode2.xml': Counter(), 'ART_Corpus/ann2/b315252a_mode2.xml': Counter(), 'ART_Corpus/ann6/b314077f_mode2.xml': Counter(), 'ART_Corpus/ann7/b407358d_mode2.xml': Counter(), 'ART_Corpus/ann9/b316166h_mode2.xml': Counter(), 'ART_Corpus/ann6/b303117a_mode2.xml': Counter(), 'ART_Corpus/ann6/b404604h_mode2.xml': Counter(), 'ART_Corpus/ann1/b313883f_mode2.xml': Counter(), 'ART_Corpus/ann7/b305156k_mode2.xml': Counter(), 'ART_Corpus/ann2/b402614d_mode2.xml': Counter(), 'ART_Corpus/ann3/b409443c_mode2.xml': Counter(), 'ART_Corpus/ann6/b407512a_mode2.xml': Counter(), 'ART_Corpus/ann4/b408777a_mode2.xml': Counter(), 'ART_Corpus/ann7/b408506j_mode2.xml': Counter(), 'ART_Corpus/ann5/b310282c_mode2.xml': Counter(), 'ART_Corpus/ann3/b411335g_mode2.xml': Counter(), 'ART_Corpus/ann9/b315394k_mode2.xml': Counter(), 'ART_Corpus/ann3/b301675g_mode2.xml': Counter(), 'ART_Corpus/ann9/b504178c_mode2.xml': Counter(), 'ART_Corpus/ann7/b316402k_mode2.xml': Counter(), 'ART_Corpus/ann2/b400183d_mode2.xml': Counter(), 'ART_Corpus/ann1/b310850c_mode2.xml': Counter(), 'ART_Corpus/ann5/b403534h_mode2.xml': Counter(), 'ART_Corpus/ann5/b306702e_mode2.xml': Counter(), 'ART_Corpus/ann8/b312115a_mode2.xml': Counter(), 'ART_Corpus/ann2/b412680g_mode2.xml': Counter(), 'ART_Corpus/ann6/b316053j_mode2.xml': Counter(), 'ART_Corpus/ann7/b315695h_mode2.xml': Counter(), 'ART_Corpus/ann1/b403970j_mode2.xml': Counter(), 'ART_Corpus/ann8/b314521m_mode2.xml': Counter(), 'ART_Corpus/ann4/b313474a_mode2.xml': Counter(), 'ART_Corpus/ann6/b316211g_mode2.xml': Counter(), 'ART_Corpus/ann3/b407316a_mode2.xml': Counter(), 'ART_Corpus/ann5/b312040f_mode2.xml': Counter(), 'ART_Corpus/ann1/b414459g_mode2.xml': Counter(), 'ART_Corpus/ann4/b403191c_mode2.xml': Counter(), 'ART_Corpus/ann3/b311571b_mode2.xml': Counter(), 'ART_Corpus/ann6/b306787b_mode2.xml': Counter(), 'ART_Corpus/ann8/b509263a_mode2.xml': Counter(), 'ART_Corpus/ann2/b305670h_mode2.xml': Counter(), 'ART_Corpus/ann5/b404880f_mode2.xml': Counter(), 'ART_Corpus/ann3/b316144g_mode2.xml': Counter(), 'ART_Corpus/ann9/b501029b_mode2.xml': Counter(), 'ART_Corpus/ann3/b404933k_mode2.xml': Counter(), 'ART_Corpus/ann2/b314609j_mode2.xml': Counter(), 'ART_Corpus/ann6/b315626p_mode2.xml': Counter(), 'ART_Corpus/ann7/b407500e_mode2.xml': Counter(), 'ART_Corpus/ann9/b309070a_mode2.xml': Counter(), 'ART_Corpus/ann1/b308195h_mode2.xml': Counter(), 'ART_Corpus/ann1/b409589h_mode2.xml': Counter(), 'ART_Corpus/ann8/b316895f_mode2.xml': Counter(), 'ART_Corpus/ann5/b407082h_mode2.xml': Counter(), 'ART_Corpus/ann9/b511334b_mode2.xml': Counter(), 'ART_Corpus/ann7/b316385g_mode2.xml': Counter(), 'ART_Corpus/ann8/b409258a_mode2.xml': Counter(), 'ART_Corpus/ann4/b413539c_mode2.xml': Counter(), 'ART_Corpus/ann7/b407728h_mode2.xml': Counter(), 'ART_Corpus/ann9/b407279k_mode2.xml': Counter(), 'ART_Corpus/ann6/b406695b_mode2.xml': Counter(), 'ART_Corpus/ann5/b409686j_mode2.xml': Counter(), 'ART_Corpus/ann9/b403032j_mode2.xml': Counter(), 'ART_Corpus/ann2/b313261g_mode2.xml': Counter(), 'ART_Corpus/ann4/b312859h_mode2.xml': Counter(), 'ART_Corpus/ann1/b313684a_mode2.xml': Counter(), 'ART_Corpus/ann4/b313987e_mode2.xml': Counter(), 'ART_Corpus/ann2/b308202d_mode2.xml': Counter(), 'ART_Corpus/ann6/b315038k_mode2.xml': Counter(), 'ART_Corpus/ann9/b312724a_mode2.xml': Counter(), 'ART_Corpus/ann9/b414639e_mode2.xml': Counter(), 'ART_Corpus/ann7/b302761a_mode2.xml': Counter(), 'ART_Corpus/ann4/b406899h_mode2.xml': Counter(), 'ART_Corpus/ann6/b211806h_mode2.xml': Counter(), 'ART_Corpus/ann3/b405531d_mode2.xml': Counter(), 'ART_Corpus/ann4/b316910c_mode2.xml': Counter(), 'ART_Corpus/ann8/b314189f_mode2.xml': Counter(), 'ART_Corpus/ann6/b406051b_mode2.xml': Counter(), 'ART_Corpus/ann9/b414641g_mode2.xml': Counter(), 'ART_Corpus/ann6/b404889j_mode2.xml': Counter(), 'ART_Corpus/ann8/b506075c_mode2.xml': Counter(), 'ART_Corpus/ann6/b407283a_mode2.xml': Counter(), 'ART_Corpus/ann3/b316185d_mode2.xml': Counter(), 'ART_Corpus/ann5/b411001c_mode2.xml': Counter(), 'ART_Corpus/ann9/b508229c_mode2.xml': Counter(), 'ART_Corpus/ann5/b311582h_mode2.xml': Counter(), 'ART_Corpus/ann7/b210911e_mode2.xml': Counter(), 'ART_Corpus/ann6/b315034h_mode2.xml': Counter(), 'ART_Corpus/ann7/b315089e_mode2.xml': Counter(), 'ART_Corpus/ann3/b406569g_mode2.xml': Counter(), 'ART_Corpus/ann8/b411044g_mode2.xml': Counter(), 'ART_Corpus/ann5/b402623c_mode2.xml': Counter(), 'ART_Corpus/ann3/b304943d_mode2.xml': Counter(), 'ART_Corpus/ann6/b410120k_mode2.xml': Counter(), 'ART_Corpus/ann2/b309964d_mode2.xml': Counter(), 'ART_Corpus/ann9/b506280b_mode2.xml': Counter(), 'ART_Corpus/ann1/b304116f_mode2.xml': Counter(), 'ART_Corpus/ann1/b403450c_mode2.xml': Counter(), 'ART_Corpus/ann4/b312562a_mode2.xml': Counter(), 'ART_Corpus/ann7/b410112j_mode2.xml': Counter(), 'ART_Corpus/ann5/b313134c_mode2.xml': Counter(), 'ART_Corpus/ann9/b510884e_mode2.xml': Counter(), 'ART_Corpus/ann5/b407174c_mode2.xml': Counter(), 'ART_Corpus/ann1/b409641j_mode2.xml': Counter(), 'ART_Corpus/ann6/b413672a_mode2.xml': Counter(), 'ART_Corpus/ann7/b406562j_mode2.xml': Counter(), 'ART_Corpus/ann6/b410922h_mode2.xml': Counter(), 'ART_Corpus/ann1/b402496f_mode2.xml': Counter(), 'ART_Corpus/ann5/b410439k_mode2.xml': Counter(), 'ART_Corpus/ann4/b312684f_mode2.xml': Counter(), 'ART_Corpus/ann8/b419490j_mode2.xml': Counter(), 'ART_Corpus/ann6/b411798k_mode2.xml': Counter(), 'ART_Corpus/ann8/b419201j_mode2.xml': Counter(), 'ART_Corpus/ann5/b401299b_mode2.xml': Counter(), 'ART_Corpus/ann4/b312175e_mode2.xml': Counter(), 'ART_Corpus/ann9/b508281a_mode2.xml': Counter(), 'ART_Corpus/ann5/b410053k_mode2.xml': Counter(), 'ART_Corpus/ann8/b314070a_mode2.xml': Counter(), 'ART_Corpus/ann5/b406795a_mode2.xml': Counter(), 'ART_Corpus/ann6/b314882c_mode2.xml': Counter(), 'ART_Corpus/ann5/b315893d_mode2.xml': Counter(), 'ART_Corpus/ann3/b305411j_mode2.xml': Counter(), 'ART_Corpus/ann4/b411082j_mode2.xml': Counter(), 'ART_Corpus/ann8/b404078n_mode2.xml': Counter(), 'ART_Corpus/ann2/b313110f_mode2.xml': Counter(), 'ART_Corpus/ann8/b313717a_mode2.xml': Counter(), 'ART_Corpus/ann7/b313251j_mode2.xml': Counter(), 'ART_Corpus/ann2/b312189e_mode2.xml': Counter(), 'ART_Corpus/ann5/b407371c_mode2.xml': Counter(), 'ART_Corpus/ann9/b416924g_mode2.xml': Counter(), 'ART_Corpus/ann3/b411356j_mode2.xml': Counter(), 'ART_Corpus/ann7/b411689e_mode2.xml': Counter(), 'ART_Corpus/ann8/b313306k_mode2.xml': Counter(), 'ART_Corpus/ann2/b401234h_mode2.xml': Counter(), 'ART_Corpus/ann3/b412414f_mode2.xml': Counter(), 'ART_Corpus/ann1/b410905h_mode2.xml': Counter(), 'ART_Corpus/ann4/b312242e_mode2.xml': Counter(), 'ART_Corpus/ann8/b511710k_mode2.xml': Counter(), 'ART_Corpus/ann8/b414986f_mode2.xml': Counter(), 'ART_Corpus/ann2/b400402g_mode2.xml': Counter(), 'ART_Corpus/ann5/b313313n_mode2.xml': Counter(), 'ART_Corpus/ann1/b405025h_mode2.xml': Counter(), 'ART_Corpus/ann5/b405233a_mode2.xml': Counter(), 'ART_Corpus/ann9/b415563f_mode2.xml': Counter(), 'ART_Corpus/ann9/b405543h_mode2.xml': Counter(), 'ART_Corpus/ann3/b310865a_mode2.xml': Counter(), 'ART_Corpus/ann7/b310932a_mode2.xml': Counter(), 'ART_Corpus/ann8/b405013d_mode2.xml': Counter(), 'ART_Corpus/ann5/b314263a_mode2.xml': Counter(), 'ART_Corpus/ann1/b402989p_mode2.xml': Counter(), 'ART_Corpus/ann4/b310825b_mode2.xml': Counter(), 'ART_Corpus/ann4/b404146a_mode2.xml': Counter(), 'ART_Corpus/ann8/b413703e_mode2.xml': Counter(), 'ART_Corpus/ann1/b316620a_mode2.xml': Counter(), 'ART_Corpus/ann9/b504407c_mode2.xml': Counter(), 'ART_Corpus/ann8/b316260e_mode2.xml': Counter(), 'ART_Corpus/ann8/b418708c_mode2.xml': Counter(), 'ART_Corpus/ann8/b403898c_mode2.xml': Counter(), 'ART_Corpus/ann6/b314692h_mode2.xml': Counter(), 'ART_Corpus/ann9/b313922k_mode2.xml': Counter(), 'ART_Corpus/ann5/b313691d_mode2.xml': Counter(), 'ART_Corpus/ann7/b410283e_mode2.xml': Counter(), 'ART_Corpus/ann3/b402163k_mode2.xml': Counter(), 'ART_Corpus/ann1/b403094j_mode2.xml': Counter(), 'ART_Corpus/ann3/b315777f_mode2.xml': Counter(), 'ART_Corpus/ann9/b502789f_mode2.xml': Counter(), 'ART_Corpus/ann1/b313220j_mode2.xml': Counter(), 'ART_Corpus/ann3/b312252b_mode2.xml': Counter(), 'ART_Corpus/ann9/b413603a_mode2.xml': Counter(), 'ART_Corpus/ann2/b406989g_mode2.xml': Counter(), 'ART_Corpus/ann4/b304938h_mode2.xml': Counter(), 'ART_Corpus/ann2/b404632c_mode2.xml': Counter(), 'ART_Corpus/ann2/b411005f_mode2.xml': Counter(), 'ART_Corpus/ann5/b408415b_mode2.xml': Counter(), 'ART_Corpus/ann2/b313362a_mode2.xml': Counter(), 'ART_Corpus/ann4/b415321a_mode2.xml': Counter()}\n"
     ]
    },
    {
     "data": {
      "application/vnd.jupyter.widget-view+json": {
       "model_id": "437323c41853415e94edc0d5a5b821f8",
       "version_major": 2,
       "version_minor": 0
      },
      "text/plain": [
       "FloatProgress(value=0.0, max=34680.0)"
      ]
     },
     "metadata": {},
     "output_type": "display_data"
    }
   ],
   "source": [
    "from collections import Counter\n",
    "from multiprocessing import Pool\n",
    "from ipywidgets import FloatProgress\n",
    "from IPython.display import display\n",
    "from time import sleep\n",
    "\n",
    "figs = { filename: Counter() for filename,id,text in all_sentences}\n",
    "print(\"Fig:\")\n",
    "print(figs)\n",
    "   \n",
    "f = FloatProgress(min=0, max=len(all_sentences))\n",
    "display(f)\n",
    "    \n",
    "\n",
    "def match_sent(sent):\n",
    "    filename,id,text = sent\n",
    "    sfigs = []\n",
    "    \n",
    "    for m in re.findall(pattern, text):\n",
    "        sfigs.append(m[1])\n",
    "        \n",
    "        \n",
    "    return filename,id,sfigs\n",
    "        \n",
    "    \n",
    "for filename,id,sentfigs in map(match_sent, all_sentences):\n",
    "    f.value += 1\n",
    "    figs[filename].update(sentfigs)\n",
    "\n",
    "\n",
    "for file in figs:\n",
    "    print(\"File \", file)\n",
    "    print(\"References to figures...: \")\n",
    "    print(figs[file])\n",
    "\n",
    "        "
   ]
  },
  {
   "cell_type": "markdown",
   "metadata": {},
   "source": [
    "So now we know which papers have which figures we can find out which paper has the most different figures and which one references figures the most.\n"
   ]
  },
  {
   "cell_type": "code",
   "execution_count": 8,
   "metadata": {},
   "outputs": [
    {
     "name": "stdout",
     "output_type": "stream",
     "text": [
      "Top 5 papers by number of references to figures (frequency)\n",
      "Title: ART_Corpus/ann8/b506075c_mode2.xml Count: 48\n",
      "Title: ART_Corpus/ann5/b311582h_mode2.xml Count: 45\n",
      "Title: ART_Corpus/ann2/b308202d_mode2.xml Count: 39\n",
      "Title: ART_Corpus/ann6/b308201f_mode2.xml Count: 37\n",
      "Title: ART_Corpus/ann9/b413603a_mode2.xml Count: 37\n",
      "\n",
      "\n",
      "\n",
      "Top 5 papers by number of different figures in paper (variance)\n",
      "Title: ART_Corpus/ann7/b413535k_mode2.xml Count: 26\n",
      "Title: ART_Corpus/ann3/b405531d_mode2.xml Count: 20\n",
      "Title: ART_Corpus/ann5/b402623c_mode2.xml Count: 20\n",
      "Title: ART_Corpus/ann8/b316895f_mode2.xml Count: 19\n",
      "Title: ART_Corpus/ann2/b401234h_mode2.xml Count: 18\n"
     ]
    }
   ],
   "source": [
    "sorted_figs_by_refcount = [ (x, sum( figs[x].values())) for x in \n",
    "               sorted(figs, key=lambda x: sum( figs[x].values()), reverse=True ) ] \n",
    "\n",
    "sorted_figs_by_variety = [ (x, len(figs[x])) for x in \n",
    "               sorted(figs, key=lambda x: len( figs[x] ), reverse=True ) ] \n",
    "\n",
    "print(\"Top 5 papers by number of references to figures (frequency)\")\n",
    "for paper,count in sorted_figs_by_refcount[0:5]:\n",
    "    print(\"Title: {} Count: {}\".format(paper,count))\n",
    "print(\"\\n\\n\")\n",
    "print(\"Top 5 papers by number of different figures in paper (variance)\")\n",
    "for paper,count in sorted_figs_by_variety[0:5]:\n",
    "    print(\"Title: {} Count: {}\".format(paper,count))\n",
    "    \n",
    "    \n"
   ]
  },
  {
   "cell_type": "markdown",
   "metadata": {},
   "source": [
    "## Conclusion\n",
    "\n",
    "We have used regular expressions to parse semi-structured data inside the ART Corpus and determine which of the papers have the most diverse and most frequent references to figures.\n",
    "\n",
    "Our final chapter looks at [NLTK](NLTK.ipynb)"
   ]
  },
  {
   "cell_type": "code",
   "execution_count": null,
   "metadata": {
    "collapsed": true
   },
   "outputs": [],
   "source": []
  }
 ],
 "metadata": {
  "kernelspec": {
   "display_name": "Python 3",
   "language": "python",
   "name": "python3"
  },
  "language_info": {
   "codemirror_mode": {
    "name": "ipython",
    "version": 3
   },
   "file_extension": ".py",
   "mimetype": "text/x-python",
   "name": "python",
   "nbconvert_exporter": "python",
   "pygments_lexer": "ipython3",
   "version": "3.5.2"
  }
 },
 "nbformat": 4,
 "nbformat_minor": 1
}
