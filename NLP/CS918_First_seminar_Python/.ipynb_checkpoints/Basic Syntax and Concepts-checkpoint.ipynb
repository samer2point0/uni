{
 "cells": [
  {
   "cell_type": "markdown",
   "metadata": {},
   "source": [
    "# CS918: Introduction to Python and iPython\n",
    "<b> Gabriele Pergola (gabriele.pergola@warwick.ac.uk) </b> <br> \n",
    "Credits to James Ravenscroft.\n",
    "\n",
    "\n",
    "## Python \n",
    "Python is a general purpose scripting language frequently used for data science and machine learning applications. It is open source and available on many different platforms (Windows, Mac OSX, Linux, Android and more)\n",
    "\n",
    "### Versions\n",
    "Currently the python foundation supports two different versions with slightly different syntax. We will be focussing on Python 3.X rather than the legacy 2.X family.\n",
    "\n",
    "### Basic Syntax\n",
    "\n",
    " * Python 3 looks like many other modern programming languages such as C, Java, PHP and Perl. \n",
    " * There are no semi-colons at the end of lines"
   ]
  },
  {
   "cell_type": "code",
   "execution_count": null,
   "metadata": {},
   "outputs": [],
   "source": [
    "# Lines starting with a hash are comments\n",
    "x = 1 + 2                   # Here is a variable declaration\n",
    "print(\"The answer is\", x)   # Here is a function call to the function \"print\""
   ]
  },
  {
   "cell_type": "markdown",
   "metadata": {},
   "source": [
    "The language is whitespace sensitive - things should be indented to make them part of a function, class, if/else or loop."
   ]
  },
  {
   "cell_type": "code",
   "execution_count": null,
   "metadata": {},
   "outputs": [],
   "source": [
    "i = 0\n",
    "print(\"incrementing i 5 times\")\n",
    "while i < 5:\n",
    "    i += 1 #i = i+1\n",
    "    print(i)\n",
    "    \n",
    "print (\"decrementing i 5 times\")\n",
    "\n",
    "while i > -1:\n",
    "    if i == 5:\n",
    "        print(\"i is 5\")\n",
    "    else:\n",
    "        print(i)\n",
    "    \n",
    "    i -= 1\n",
    "    \n"
   ]
  },
  {
   "cell_type": "markdown",
   "metadata": {},
   "source": [
    "------------------------------------------------\n",
    "\n",
    "## Python Data Types\n",
    "\n",
    "\n",
    "### Fundamental types\n",
    "We will work with 4 main \"basic\" types: strings, integers, floats and booleans."
   ]
  },
  {
   "cell_type": "code",
   "execution_count": null,
   "metadata": {},
   "outputs": [],
   "source": [
    "a_string = \"hello world\"\n",
    "print(\"String:\",a_string)\n",
    "print(type(a_string))"
   ]
  },
  {
   "cell_type": "code",
   "execution_count": null,
   "metadata": {},
   "outputs": [],
   "source": [
    "an_int = 1\n",
    "print(\"Int:\", an_int)\n",
    "print(type(an_int))"
   ]
  },
  {
   "cell_type": "code",
   "execution_count": null,
   "metadata": {},
   "outputs": [],
   "source": [
    "a_float = 1.235\n",
    "print(\"Float:\", a_float)\n",
    "print(type(a_float))"
   ]
  },
  {
   "cell_type": "code",
   "execution_count": null,
   "metadata": {},
   "outputs": [],
   "source": [
    "a_bool = False\n",
    "print(\"Bool:\",a_bool)\n",
    "print(type(a_bool))"
   ]
  },
  {
   "cell_type": "markdown",
   "metadata": {},
   "source": [
    "-------------------------------------------\n",
    "\n",
    "### Data structures/containers\n",
    "\n",
    "There are 4 built in \"complex\" data structures in python. \n",
    "\n",
    "#### List\n",
    "\n",
    "Lists are simply a mutable (editable) collection of python objects that can be edited and updated. Lists can contain multiple different types."
   ]
  },
  {
   "cell_type": "code",
   "execution_count": null,
   "metadata": {},
   "outputs": [],
   "source": [
    "alist = [1,2,3,4,5]\n",
    "\n",
    "print(alist)\n",
    "print(type(alist))"
   ]
  },
  {
   "cell_type": "code",
   "execution_count": null,
   "metadata": {},
   "outputs": [],
   "source": [
    "mixed = [\"sometext\", 1.234, 1, True, False]\n",
    "\n",
    "print(mixed)\n",
    "print(type(mixed))"
   ]
  },
  {
   "cell_type": "markdown",
   "metadata": {},
   "source": [
    "List items can be accessed and updated via python indexing syntax."
   ]
  },
  {
   "cell_type": "code",
   "execution_count": null,
   "metadata": {},
   "outputs": [],
   "source": [
    "print(mixed[1]) #should print 1.234\n",
    "\n",
    "#lets replace 'sometext' with 'hello world'\n",
    "mixed[0] = \"hello world\"\n",
    "\n",
    "print(mixed)"
   ]
  },
  {
   "cell_type": "markdown",
   "metadata": {},
   "source": [
    "You can append items to lists using the append method."
   ]
  },
  {
   "cell_type": "code",
   "execution_count": null,
   "metadata": {},
   "outputs": [],
   "source": [
    "mixed.append(\"testing\")\n",
    "print(mixed)"
   ]
  },
  {
   "cell_type": "markdown",
   "metadata": {},
   "source": [
    "#### List Slicing\n",
    "\n",
    "Python has syntax for specifying \"slices\" of lists that you want to work with.\n",
    "\n",
    "`varname[ start_index : end_index ] -> slice of list varname`\n",
    "\n",
    "The slice includes the item with index `start_index` and includes all elements until index `end_index`. The item with index `end_index` is excluded."
   ]
  },
  {
   "cell_type": "code",
   "execution_count": null,
   "metadata": {},
   "outputs": [],
   "source": [
    "print (mixed[1:4]) #should give us elements 2,3 and 4 i.e. 1.234, 1 and True"
   ]
  },
  {
   "cell_type": "markdown",
   "metadata": {},
   "source": [
    "The two slice parameters are optional. Omitting them can also be useful."
   ]
  },
  {
   "cell_type": "code",
   "execution_count": null,
   "metadata": {},
   "outputs": [],
   "source": [
    "#print the whole list\n",
    "print(mixed[:])"
   ]
  },
  {
   "cell_type": "code",
   "execution_count": null,
   "metadata": {},
   "outputs": [],
   "source": [
    "#print all items in mixed after item 1\n",
    "print (mixed[1:])\n",
    "\n",
    "#print all items in mixed until you get to item 4 (which is excluded)\n",
    "print(mixed[:3])"
   ]
  },
  {
   "cell_type": "code",
   "execution_count": null,
   "metadata": {},
   "outputs": [],
   "source": [
    "#print the last 3 items of mixed\n",
    "print(mixed[-3:])\n",
    "\n",
    "#print the entirety of the list until reaching the 2nd last element\n",
    "print(mixed[:-2])"
   ]
  },
  {
   "cell_type": "markdown",
   "metadata": {},
   "source": [
    "### Tuple\n",
    "\n",
    "Like a list but immutable. Useful for passing around groups of structured data.\n"
   ]
  },
  {
   "cell_type": "code",
   "execution_count": null,
   "metadata": {},
   "outputs": [],
   "source": [
    "atuple = (123, \"hello world\")\n",
    "\n",
    "print (atuple[0])"
   ]
  },
  {
   "cell_type": "markdown",
   "metadata": {},
   "source": [
    "Check out what happens when you try and change a value in a tuple"
   ]
  },
  {
   "cell_type": "code",
   "execution_count": null,
   "metadata": {},
   "outputs": [],
   "source": [
    "atuple[0] = 321"
   ]
  },
  {
   "cell_type": "markdown",
   "metadata": {},
   "source": [
    "### Set\n",
    "\n",
    "Like a mathematical set - can be used to filter out duplicates in lists and check for membership.\n"
   ]
  },
  {
   "cell_type": "code",
   "execution_count": null,
   "metadata": {},
   "outputs": [],
   "source": [
    "spamlist = [\"spam\",\"spam\",\"spam\",\"spam\",\"eggs\",\"eggs\",\"bacon\", \"spam\"]\n",
    "setA = set(spamlist)\n",
    "print(\"list:\", spamlist)\n",
    "print(\"set:\", setA)\n",
    "\n",
    "setB = {'spaghetti', 'eggs', 'sausages', 'prosecco'}\n",
    "\n",
    "print(\"\\nSet operations: \")\n",
    "print(\"- Intersection A,B\",setA.intersection(setB)) #should print 'eggs' which is in both sets\n",
    "print(\"- Union A,B\",       setA.union(setB))        #should print all items in both sets\n",
    "print(\"- Difference A,B\",  setB.difference(setA))   #should print "
   ]
  },
  {
   "cell_type": "markdown",
   "metadata": {},
   "source": [
    "### Dictionary or dict\n",
    "\n",
    "dicts are essentially like a HashMap in Java - a mutable set of key -> value pairs maintained in memory. Python allows you to access the items using the indexing syntax described above for lists - indices must be strings."
   ]
  },
  {
   "cell_type": "code",
   "execution_count": null,
   "metadata": {},
   "outputs": [],
   "source": [
    "mydict = {\"spam\" : \"eggs\", \"bacon\" : \"sausage\"}\n",
    "\n",
    "print(mydict['spam'])\n",
    "\n",
    "mydict['bacon'] = \"fried bread\"\n",
    "\n",
    "print(mydict)"
   ]
  },
  {
   "cell_type": "markdown",
   "metadata": {},
   "source": [
    "It is possible to get a list of keys or a list of values or even a list of tuples describing keys and values."
   ]
  },
  {
   "cell_type": "code",
   "execution_count": null,
   "metadata": {},
   "outputs": [],
   "source": [
    "print(\"keys:\",    mydict.keys())\n",
    "print(\"values:\",  mydict.values())\n",
    "print(\"entries:\", mydict.items())"
   ]
  },
  {
   "cell_type": "markdown",
   "metadata": {},
   "source": [
    "---------------------------------------\n",
    "\n",
    "## Functions\n",
    "\n",
    "Function definitions in python are very simple.\n",
    "\n"
   ]
  },
  {
   "cell_type": "code",
   "execution_count": null,
   "metadata": {},
   "outputs": [],
   "source": [
    "\n",
    "def square(x):\n",
    "    y = x * x\n",
    "    return y\n",
    "\n",
    "#what is the square of 2? should print 4\n",
    "print(\"2 x 2 = \", square(2))"
   ]
  },
  {
   "cell_type": "markdown",
   "metadata": {},
   "source": [
    "Functions can have many parameters and default values can be specified too"
   ]
  },
  {
   "cell_type": "code",
   "execution_count": null,
   "metadata": {},
   "outputs": [],
   "source": [
    "def square(x=0):\n",
    "    y = x * x\n",
    "    return y\n",
    "\n",
    "def cube(x=0):\n",
    "    return x * x * x\n",
    "\n",
    "def domaths(number, operation):\n",
    "    return operation(number)\n",
    "\n",
    "print(\"Square default behavior: \", square())\n",
    "\n",
    "print(\"Square function is now the argument: \", domaths(2, square))\n",
    "\n",
    "print(\"Now lets cube: \", domaths(2,cube))\n"
   ]
  },
  {
   "cell_type": "markdown",
   "metadata": {},
   "source": [
    "---------------------------------\n",
    "\n",
    "## For loops and iteration\n",
    "\n",
    "for loops in python are one of the most powerful features of the language - especially when combined with some of the more advanced concepts as described below.\n",
    "\n",
    "A basic for loop looks like this:"
   ]
  },
  {
   "cell_type": "code",
   "execution_count": null,
   "metadata": {},
   "outputs": [],
   "source": [
    "iterable = [1,2,3,4,5]\n",
    "\n",
    "for item in iterable:\n",
    "    print(item)"
   ]
  },
  {
   "cell_type": "markdown",
   "metadata": {},
   "source": [
    "If you want to emulate a C/Java/PHP style for loop in Python, you can use the `range(x,y,step)` function like so:"
   ]
  },
  {
   "cell_type": "code",
   "execution_count": null,
   "metadata": {},
   "outputs": [],
   "source": [
    "for i in range(0,10,2): #this is like for(int i=0; i < 10; i++){} in java\n",
    "    print (i)"
   ]
  },
  {
   "cell_type": "markdown",
   "metadata": {},
   "source": [
    "You can expand lists of tuples using for loops so that each part of the tuple is accessible.\n",
    "\n",
    "Remember how I said we could iterate over keys ***and*** values in a dict earlier?"
   ]
  },
  {
   "cell_type": "code",
   "execution_count": null,
   "metadata": {},
   "outputs": [],
   "source": [
    "print(mydict) # My dictionary\n",
    "\n",
    "for key,value in mydict.items():\n",
    "    print(\"key=\",key,\", value=\",value)"
   ]
  },
  {
   "cell_type": "markdown",
   "metadata": {},
   "source": [
    "We can also keep count of how many times we've been around the loop using the python enumerate function."
   ]
  },
  {
   "cell_type": "code",
   "execution_count": null,
   "metadata": {},
   "outputs": [],
   "source": [
    "items = [\"spam\",\"eggs\",\"sausages\",\"bacon\"]\n",
    "\n",
    "for i, item in enumerate(items):\n",
    "    print (\"This is item\", i)\n",
    "    print(\"Item:\",item)\n",
    "    if i <1:\n",
    "        print (\"This is the first time around the loop\")"
   ]
  },
  {
   "cell_type": "markdown",
   "metadata": {},
   "source": [
    "### Yield operator\n",
    "\n",
    "Holding huge lists in memory can be very expensive. Python allows you to iterate over lists that are still being generated - item by item.\n"
   ]
  },
  {
   "cell_type": "code",
   "execution_count": null,
   "metadata": {},
   "outputs": [],
   "source": [
    "\n",
    "def generate_number_list(limit=5):\n",
    "    for i in range(0,limit):\n",
    "        print(\"Generated number\",i,\"Yielding back to caller\")\n",
    "        yield i\n",
    "        \n",
    "for i in generate_number_list():\n",
    "    print (\"Processing number\",i)"
   ]
  },
  {
   "cell_type": "markdown",
   "metadata": {},
   "source": [
    "----------------------------------------\n",
    "## Context Managers - with statement\n",
    "\n",
    "Allows you to operate within a specific context without worrying about state management. For example file i/o\n",
    "\n",
    "### Old method"
   ]
  },
  {
   "cell_type": "code",
   "execution_count": null,
   "metadata": {},
   "outputs": [],
   "source": [
    "fp = open(\"test.txt\",\"wb\")\n",
    "\n",
    "for i in range(0,10):\n",
    "    fp.write(bytes(\"Test {}\".format(i),\"UTF-8\"))\n",
    "    \n",
    "fp.close()"
   ]
  },
  {
   "cell_type": "markdown",
   "metadata": {},
   "source": [
    "### New method"
   ]
  },
  {
   "cell_type": "code",
   "execution_count": null,
   "metadata": {},
   "outputs": [],
   "source": [
    "with open(\"test.txt\",\"w\") as fp:\n",
    "    for i in range(0,10):\n",
    "        fp.write(\"Test {}\".format(i))\n",
    "        \n",
    "print(\"Finished\")"
   ]
  },
  {
   "cell_type": "markdown",
   "metadata": {},
   "source": [
    "You will likely see with statements all over the place. They are very common and extremely convenient.\n",
    "\n",
    "---------------------------\n",
    "\n",
    "## Conclusion\n",
    "\n",
    "That's the end of basic syntax. Lets move on to [Functional concepts](Functional%20Concepts.ipynb)"
   ]
  }
 ],
 "metadata": {
  "kernelspec": {
   "display_name": "Python 3",
   "language": "python",
   "name": "python3"
  },
  "language_info": {
   "codemirror_mode": {
    "name": "ipython",
    "version": 3
   },
   "file_extension": ".py",
   "mimetype": "text/x-python",
   "name": "python",
   "nbconvert_exporter": "python",
   "pygments_lexer": "ipython3",
   "version": "3.5.2"
  }
 },
 "nbformat": 4,
 "nbformat_minor": 1
}
