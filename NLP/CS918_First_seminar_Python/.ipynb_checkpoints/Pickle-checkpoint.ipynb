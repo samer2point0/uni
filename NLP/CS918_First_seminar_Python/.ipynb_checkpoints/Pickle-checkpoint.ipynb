{
 "cells": [
  {
   "cell_type": "markdown",
   "metadata": {},
   "source": [
    "# Pickle\n",
    "\n",
    "Pickling is a way of persisting python objects and data across application instances via the filesystem.\n",
    "\n",
    "In practice, machine learning models, cached/pre-processed data and other useful state information is often saved using pickling.\n",
    "\n",
    "## To store information on the filesystem\n"
   ]
  },
  {
   "cell_type": "code",
   "execution_count": null,
   "metadata": {},
   "outputs": [],
   "source": [
    "import pickle\n",
    "\n",
    "myobject = [x for x in range(0,10000)]\n",
    "\n",
    "print(type(myobject))\n",
    "print(\"myobject is a list of length\",len(myobject))\n",
    "print(\"First 10 elements of myobject are\", myobject[0:10])"
   ]
  },
  {
   "cell_type": "markdown",
   "metadata": {},
   "source": [
    "Let's write our object on the file system:"
   ]
  },
  {
   "cell_type": "code",
   "execution_count": null,
   "metadata": {},
   "outputs": [],
   "source": [
    "with open(\"test.pickle\", \"wb\") as f:\n",
    "    pickle.dump(myobject,f)"
   ]
  },
  {
   "cell_type": "code",
   "execution_count": null,
   "metadata": {},
   "outputs": [],
   "source": [
    "print(\"Saved object to disk...\")"
   ]
  },
  {
   "cell_type": "markdown",
   "metadata": {},
   "source": [
    "## To restore object from file\n"
   ]
  },
  {
   "cell_type": "code",
   "execution_count": null,
   "metadata": {},
   "outputs": [],
   "source": [
    "with open(\"test.pickle\",\"rb\") as f:\n",
    "    obj = pickle.load(f)    "
   ]
  },
  {
   "cell_type": "code",
   "execution_count": null,
   "metadata": {},
   "outputs": [],
   "source": [
    "print(\"loaded obj from disk...\")\n",
    "print(type(obj))\n",
    "print(\"obj is a list of length\",len(obj))\n",
    "print(\"First 10 elements of obj are\", obj[0:10])"
   ]
  },
  {
   "cell_type": "markdown",
   "metadata": {},
   "source": [
    "## Conclusion\n",
    "\n",
    "Pickle is very useful for application state information and storing models/data. \n",
    "\n",
    "Next we look at [json](JSON.ipynb)"
   ]
  }
 ],
 "metadata": {
  "kernelspec": {
   "display_name": "Python 3",
   "language": "python",
   "name": "python3"
  },
  "language_info": {
   "codemirror_mode": {
    "name": "ipython",
    "version": 3
   },
   "file_extension": ".py",
   "mimetype": "text/x-python",
   "name": "python",
   "nbconvert_exporter": "python",
   "pygments_lexer": "ipython3",
   "version": "3.5.2"
  }
 },
 "nbformat": 4,
 "nbformat_minor": 1
}
