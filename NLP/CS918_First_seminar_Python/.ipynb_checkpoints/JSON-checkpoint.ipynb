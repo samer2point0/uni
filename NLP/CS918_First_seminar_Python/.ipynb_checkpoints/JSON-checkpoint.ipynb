{
 "cells": [
  {
   "cell_type": "markdown",
   "metadata": {},
   "source": [
    "# JSON\n",
    "\n",
    "Those who have been programming for a while will most likely be familiar with JSON or Javascript object notation. This is a way of serialising data structures for transmission over HTTP or storage on a disk or in a database (such as mongodb).\n",
    "\n",
    "Like [pickle](Pickle.ipynb) discussed previously, the python module `json` allows users to save and load JSON data. \n",
    "\n",
    "Data can be saved and loaded directly from the filesystem or serialised in memory for use in the application (or perhaps with the [requests](Requests.ipynb) module discussed later)."
   ]
  },
  {
   "cell_type": "markdown",
   "metadata": {},
   "source": [
    "<img src=\"json_example.png\" width=\"550\" height=\"250\">"
   ]
  },
  {
   "cell_type": "markdown",
   "metadata": {},
   "source": [
    "## Saving JSON data to filesystem"
   ]
  },
  {
   "cell_type": "code",
   "execution_count": null,
   "metadata": {},
   "outputs": [],
   "source": [
    "import json\n",
    "\n",
    "my_object = {\"key\":\"value\", \"list\": [\"item1\",\"item2\",\"item3\"], \"float\": 0.2}\n",
    "\n",
    "with open(\"test.json\",\"w\") as f:\n",
    "    json.dump(my_object,f)\n",
    "    \n",
    "print (\"Saved JSON object...\")"
   ]
  },
  {
   "cell_type": "markdown",
   "metadata": {},
   "source": [
    "Unlike pickle, JSON files are human readable so you can now inspect the data written out by Python by [clicking here](test.json)\n",
    "\n",
    "\n",
    "## Restoring JSON data from filesystem\n"
   ]
  },
  {
   "cell_type": "code",
   "execution_count": null,
   "metadata": {},
   "outputs": [],
   "source": [
    "with open(\"test.json\",\"r\") as f:\n",
    "    my_json = json.load(f)\n",
    "    \n",
    "print (my_json)"
   ]
  },
  {
   "cell_type": "markdown",
   "metadata": {},
   "source": [
    "## JSON serialisation in memory\n"
   ]
  },
  {
   "cell_type": "code",
   "execution_count": null,
   "metadata": {},
   "outputs": [],
   "source": [
    "#save the data to a string using dumps\n",
    "json_str = json.dumps(my_object)\n",
    "\n",
    "print(\"Json String '{}'\".format(json_str))\n",
    "\n",
    "#load the data structure from the given string using loads\n",
    "json_object = json.loads(json_str)\n",
    "\n",
    "print (json_object.keys())"
   ]
  },
  {
   "cell_type": "markdown",
   "metadata": {},
   "source": [
    "## Conclusion\n",
    "\n",
    "The `json` module allows you to interact with JSON data in your python program.\n",
    "\n",
    "Next we look at [multiprocessing](Multiprocessing.ipynb)"
   ]
  }
 ],
 "metadata": {
  "kernelspec": {
   "display_name": "Python 3",
   "language": "python",
   "name": "python3"
  },
  "language_info": {
   "codemirror_mode": {
    "name": "ipython",
    "version": 3
   },
   "file_extension": ".py",
   "mimetype": "text/x-python",
   "name": "python",
   "nbconvert_exporter": "python",
   "pygments_lexer": "ipython3",
   "version": "3.5.2"
  }
 },
 "nbformat": 4,
 "nbformat_minor": 1
}
