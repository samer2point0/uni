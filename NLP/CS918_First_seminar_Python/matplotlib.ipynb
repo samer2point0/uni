{
 "cells": [
  {
   "cell_type": "markdown",
   "metadata": {},
   "source": [
    "# Matplotlib\n",
    "\n",
    "matplotlib is one of the best graphics and visualisation packages available for Python. Thankfully it comes as part of the default installation in IPython/Jupyter. It also directly interfaces with the ipython notebook allowing you to generate graphs and embed them right into the page.\n",
    "\n",
    "To tell Jupyter that we want to render graphs on the page, we use the following command:"
   ]
  },
  {
   "cell_type": "code",
   "execution_count": null,
   "metadata": {},
   "outputs": [],
   "source": [
    "%matplotlib inline"
   ]
  },
  {
   "cell_type": "markdown",
   "metadata": {},
   "source": [
    "## My first graph\n",
    "\n",
    "We will generate a simple line graph by passing in two lists of numbers. The first represents values for the X axis and the second, the Y axis."
   ]
  },
  {
   "cell_type": "code",
   "execution_count": null,
   "metadata": {},
   "outputs": [],
   "source": [
    "import matplotlib.pyplot as plt\n",
    "\n",
    "x_values = [1,2,3,4]\n",
    "y_values = [1,2,3,4]\n",
    "\n",
    "plt.plot(x_values, y_values)\n",
    "\n",
    "plt.xlabel('some numbers')\n",
    "plt.ylabel('some other numbers')\n",
    "\n",
    "plt.show()"
   ]
  },
  {
   "cell_type": "markdown",
   "metadata": {
    "collapsed": true
   },
   "source": [
    "We can plot a number of different lines on the same axes and use different colours. using the plot function.\n",
    "\n"
   ]
  },
  {
   "cell_type": "code",
   "execution_count": null,
   "metadata": {},
   "outputs": [],
   "source": [
    "\n",
    "xrange = range(-5,6)\n",
    "func1 = lambda x: 2 * x\n",
    "func2 = lambda x: x*x\n",
    "\n",
    "plt.plot(xrange, list(map(func1, xrange)), 'b' ) #b means blue solid line\n",
    "plt.plot(xrange, list(map(func2, xrange)), 'g' ) #g means green solid line\n",
    "\n",
    "plt.xlabel('some numbers')\n",
    "plt.ylabel('some other numbers')\n",
    "\n",
    "plt.show()"
   ]
  },
  {
   "cell_type": "markdown",
   "metadata": {},
   "source": [
    "## Bar graphs\n",
    "\n",
    "We can also plot bar graphs very easily using matplotlib"
   ]
  },
  {
   "cell_type": "code",
   "execution_count": null,
   "metadata": {},
   "outputs": [],
   "source": [
    "people = ['Tom', 'Dick', 'Harry']\n",
    "\n",
    "#we use positions to coordinate which person goes where on the x-axis and where the labels go\n",
    "positions  = [0,1,2]\n",
    "\n",
    "spam_eaten = [3,5,2]\n",
    "\n",
    "plt.bar(positions, spam_eaten, width=0.2, align=\"center\")\n",
    "\n",
    "plt.xticks(positions, people)\n",
    "#plt.yticks(list(range(0,6)))\n",
    "\n",
    "plt.xlabel('Participants')\n",
    "plt.ylabel('Spam eaten (cans)')\n",
    "plt.show()"
   ]
  },
  {
   "cell_type": "markdown",
   "metadata": {},
   "source": [
    "And of course you can plot multiple groups on the same axes too"
   ]
  },
  {
   "cell_type": "code",
   "execution_count": null,
   "metadata": {},
   "outputs": [],
   "source": [
    "beans_eaten = [3,1,4]\n",
    "width = 0.35\n",
    "\n",
    "# BARS\n",
    "b1 = plt.bar( positions, spam_eaten, width=width, color=\"b\")\n",
    "b2 = plt.bar( [x+width for x in positions], beans_eaten, width=width, color=\"r\")\n",
    "\n",
    "# TICKS\n",
    "plt.xticks([ x + width/2 for x in positions], people)\n",
    "#plt.yticks(list(range(0,6)))\n",
    "\n",
    "# LABELS\n",
    "plt.xlabel('Participants')\n",
    "plt.ylabel('Food consumption (cans)')\n",
    "\n",
    "# LEGEND\n",
    "plt.legend((b1,b2), ('Spam','Beans'),loc=0)\n",
    "\n",
    "plt.show()"
   ]
  },
  {
   "cell_type": "markdown",
   "metadata": {},
   "source": [
    "## Conclusion\n",
    "\n",
    "That concludes this brief introduction to matplotlib. As always, if you want to know more about the library, you can [read the full documentation here](http://matplotlib.org/contents.html)\n",
    "\n",
    "Our next chapter looks at [regular expressions](regex.ipynb) and how to use them to make sense of semi-structured data in text."
   ]
  }
 ],
 "metadata": {
  "kernelspec": {
   "display_name": "Python 3",
   "language": "python",
   "name": "python3"
  },
  "language_info": {
   "codemirror_mode": {
    "name": "ipython",
    "version": 3
   },
   "file_extension": ".py",
   "mimetype": "text/x-python",
   "name": "python",
   "nbconvert_exporter": "python",
   "pygments_lexer": "ipython3",
   "version": "3.5.2"
  }
 },
 "nbformat": 4,
 "nbformat_minor": 1
}
