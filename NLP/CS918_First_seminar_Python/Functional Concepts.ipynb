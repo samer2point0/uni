{
 "cells": [
  {
   "cell_type": "markdown",
   "metadata": {},
   "source": [
    "# Functional Concepts in Python\n",
    "\n",
    "Functional programming in Python allows you to write very concise and expressive code that can effectively reshape data into whichever structure is easiest to work with for a given framework.\n",
    "\n",
    "## List comprehensions\n",
    "\n",
    "List comprehensions allow you to dynamically generate lists by filtering, altering or otherwise manipulating another data set.\n",
    "\n",
    "Lets look at an example"
   ]
  },
  {
   "cell_type": "code",
   "execution_count": null,
   "metadata": {},
   "outputs": [],
   "source": [
    "multiples = [ x       for x in range(0,100)       if x % 3 == 0 ]\n",
    "\n",
    "print (multiples)"
   ]
  },
  {
   "cell_type": "markdown",
   "metadata": {},
   "source": [
    "We don't have to return a 1:1 mapping - we might change the data type given back"
   ]
  },
  {
   "cell_type": "code",
   "execution_count": null,
   "metadata": {},
   "outputs": [],
   "source": [
    "silly = [ ['blah', \"hi\"] * x for x in range(1,5)]\n",
    "\n",
    "print(silly) #returns a list of lists"
   ]
  },
  {
   "cell_type": "markdown",
   "metadata": {},
   "source": [
    "Another example is to map a function on to every single item in a list"
   ]
  },
  {
   "cell_type": "code",
   "execution_count": null,
   "metadata": {},
   "outputs": [],
   "source": [
    "def square(x):\n",
    "    return x*x\n",
    "\n",
    "squares = [ square(x)  for x in range(1,10)]\n",
    "\n",
    "print(squares)\n",
    "\n",
    "# we can also apply a filter - lets have squares of multiples of \n",
    "# 3 between 1 and 10 (so 3*3,6*6,9*9)\n",
    "\n",
    "print ( [ square(x)      for x in range(1,10)        if x % 3 == 0] )"
   ]
  },
  {
   "cell_type": "markdown",
   "metadata": {},
   "source": [
    "-------------------------------------------\n",
    "## Lambdas\n",
    "\n",
    "Lambdas are just tiny functions - nothing more to it than that. If you want to repeat a small/short operation a number of times (for example, build a list comprehension like above) then it is easier to define it as a lambda.\n",
    "\n",
    "For example:"
   ]
  },
  {
   "cell_type": "code",
   "execution_count": null,
   "metadata": {},
   "outputs": [],
   "source": [
    "square = lambda x: x*x # same as the def function above but much more compact\n",
    "\n",
    "squares = [ square(x) for x in range(1,10)]\n",
    "\n",
    "print(squares)"
   ]
  },
  {
   "cell_type": "markdown",
   "metadata": {},
   "source": [
    "---------------------------------------------\n",
    "## Dict comprehensions\n",
    "\n",
    "Like list comprehensions but can be used to generate a dict with keys and values"
   ]
  },
  {
   "cell_type": "code",
   "execution_count": null,
   "metadata": {},
   "outputs": [],
   "source": [
    "breakfast_foods = ['sausages','eggs','bacon','mushroom','hash-brown']\n",
    "\n",
    "respective_pop  = [10, 6, 9, 4, 7]     #respective popularity of the breakfast food items out of 10\n",
    "\n",
    "#returns a set of tuples which have the breakfast food zipped together with its popularity\n",
    "tmp = zip(breakfast_foods,respective_pop)\n",
    "print(tmp)\n",
    "zipped = list(zip(breakfast_foods,respective_pop))\n",
    "\n",
    "print(zipped)"
   ]
  },
  {
   "cell_type": "code",
   "execution_count": null,
   "metadata": {},
   "outputs": [],
   "source": [
    "# SLOW VERSION - This is still rubbish for fast access - how do we get to hash brown?\n",
    "for food,pop in zipped:\n",
    "    if food == \"hash-brown\":\n",
    "        print (pop)"
   ]
  },
  {
   "cell_type": "code",
   "execution_count": null,
   "metadata": {},
   "outputs": [],
   "source": [
    "# EFFICIENT APPROACH - We will generate a map of food -> popularity using a dict comprehension\n",
    "foods = { food:pop for food,pop in zipped}\n",
    "\n",
    "print (foods)\n",
    "\n",
    "# Much better!\n",
    "print (foods['hash-brown'])"
   ]
  },
  {
   "cell_type": "code",
   "execution_count": null,
   "metadata": {},
   "outputs": [],
   "source": [
    "# We can still use filters too\n",
    "print (\"Foods with 5/10 or more: \", {food:pop for food,pop in zipped   if pop > 5})"
   ]
  },
  {
   "cell_type": "markdown",
   "metadata": {},
   "source": [
    "## Conclusion\n",
    "\n",
    "These are some of the most useful parts of the Python programming language that allow you to quickly transform data from one structure to another. <br> Now its time to look at some of the libraries and modules Python has to offer starting with [pickle](Pickle.ipynb)"
   ]
  }
 ],
 "metadata": {
  "kernelspec": {
   "display_name": "Python 3",
   "language": "python",
   "name": "python3"
  },
  "language_info": {
   "codemirror_mode": {
    "name": "ipython",
    "version": 3
   },
   "file_extension": ".py",
   "mimetype": "text/x-python",
   "name": "python",
   "nbconvert_exporter": "python",
   "pygments_lexer": "ipython3",
   "version": "3.5.2"
  }
 },
 "nbformat": 4,
 "nbformat_minor": 1
}
