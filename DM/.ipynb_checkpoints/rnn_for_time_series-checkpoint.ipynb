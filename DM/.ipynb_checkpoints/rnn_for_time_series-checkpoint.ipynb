{
 "cells": [
  {
   "cell_type": "markdown",
   "metadata": {
    "collapsed": true
   },
   "source": [
    "# RNN for Time Series Prediction\n",
    "\n",
    "This is a time series prediction task. You are given a dataset which reports on the weather and the level of pollution each hour for five years, and asked to train Recurrent Neural Networks (RNNs) to predict the hourly pollution level."
   ]
  },
  {
   "cell_type": "code",
   "execution_count": 4,
   "metadata": {},
   "outputs": [
    {
     "name": "stderr",
     "output_type": "stream",
     "text": [
      "/home/samer2point3/.local/lib/python3.5/site-packages/pandas_profiling/plot.py:15: UserWarning: \n",
      "This call to matplotlib.use() has no effect because the backend has already\n",
      "been chosen; matplotlib.use() must be called *before* pylab, matplotlib.pyplot,\n",
      "or matplotlib.backends is imported for the first time.\n",
      "\n",
      "The backend was *originally* set to 'module://ipykernel.pylab.backend_inline' by the following code:\n",
      "  File \"/usr/lib/python3.5/runpy.py\", line 184, in _run_module_as_main\n",
      "    \"__main__\", mod_spec)\n",
      "  File \"/usr/lib/python3.5/runpy.py\", line 85, in _run_code\n",
      "    exec(code, run_globals)\n",
      "  File \"/home/samer2point3/.local/lib/python3.5/site-packages/ipykernel_launcher.py\", line 16, in <module>\n",
      "    app.launch_new_instance()\n",
      "  File \"/home/samer2point3/.local/lib/python3.5/site-packages/traitlets/config/application.py\", line 658, in launch_instance\n",
      "    app.start()\n",
      "  File \"/home/samer2point3/.local/lib/python3.5/site-packages/ipykernel/kernelapp.py\", line 505, in start\n",
      "    self.io_loop.start()\n",
      "  File \"/home/samer2point3/.local/lib/python3.5/site-packages/tornado/platform/asyncio.py\", line 132, in start\n",
      "    self.asyncio_loop.run_forever()\n",
      "  File \"/usr/lib/python3.5/asyncio/base_events.py\", line 345, in run_forever\n",
      "    self._run_once()\n",
      "  File \"/usr/lib/python3.5/asyncio/base_events.py\", line 1312, in _run_once\n",
      "    handle._run()\n",
      "  File \"/usr/lib/python3.5/asyncio/events.py\", line 125, in _run\n",
      "    self._callback(*self._args)\n",
      "  File \"/home/samer2point3/.local/lib/python3.5/site-packages/tornado/ioloop.py\", line 758, in _run_callback\n",
      "    ret = callback()\n",
      "  File \"/home/samer2point3/.local/lib/python3.5/site-packages/tornado/stack_context.py\", line 300, in null_wrapper\n",
      "    return fn(*args, **kwargs)\n",
      "  File \"/home/samer2point3/.local/lib/python3.5/site-packages/tornado/gen.py\", line 1233, in inner\n",
      "    self.run()\n",
      "  File \"/home/samer2point3/.local/lib/python3.5/site-packages/tornado/gen.py\", line 1147, in run\n",
      "    yielded = self.gen.send(value)\n",
      "  File \"/home/samer2point3/.local/lib/python3.5/site-packages/ipykernel/kernelbase.py\", line 357, in process_one\n",
      "    yield gen.maybe_future(dispatch(*args))\n",
      "  File \"/home/samer2point3/.local/lib/python3.5/site-packages/tornado/gen.py\", line 326, in wrapper\n",
      "    yielded = next(result)\n",
      "  File \"/home/samer2point3/.local/lib/python3.5/site-packages/ipykernel/kernelbase.py\", line 267, in dispatch_shell\n",
      "    yield gen.maybe_future(handler(stream, idents, msg))\n",
      "  File \"/home/samer2point3/.local/lib/python3.5/site-packages/tornado/gen.py\", line 326, in wrapper\n",
      "    yielded = next(result)\n",
      "  File \"/home/samer2point3/.local/lib/python3.5/site-packages/ipykernel/kernelbase.py\", line 534, in execute_request\n",
      "    user_expressions, allow_stdin,\n",
      "  File \"/home/samer2point3/.local/lib/python3.5/site-packages/tornado/gen.py\", line 326, in wrapper\n",
      "    yielded = next(result)\n",
      "  File \"/home/samer2point3/.local/lib/python3.5/site-packages/ipykernel/ipkernel.py\", line 294, in do_execute\n",
      "    res = shell.run_cell(code, store_history=store_history, silent=silent)\n",
      "  File \"/home/samer2point3/.local/lib/python3.5/site-packages/ipykernel/zmqshell.py\", line 536, in run_cell\n",
      "    return super(ZMQInteractiveShell, self).run_cell(*args, **kwargs)\n",
      "  File \"/home/samer2point3/.local/lib/python3.5/site-packages/IPython/core/interactiveshell.py\", line 2819, in run_cell\n",
      "    raw_cell, store_history, silent, shell_futures)\n",
      "  File \"/home/samer2point3/.local/lib/python3.5/site-packages/IPython/core/interactiveshell.py\", line 2845, in _run_cell\n",
      "    return runner(coro)\n",
      "  File \"/home/samer2point3/.local/lib/python3.5/site-packages/IPython/core/async_helpers.py\", line 67, in _pseudo_sync_runner\n",
      "    coro.send(None)\n",
      "  File \"/home/samer2point3/.local/lib/python3.5/site-packages/IPython/core/interactiveshell.py\", line 3020, in run_cell_async\n",
      "    interactivity=interactivity, compiler=compiler, result=result)\n",
      "  File \"/home/samer2point3/.local/lib/python3.5/site-packages/IPython/core/interactiveshell.py\", line 3185, in run_ast_nodes\n",
      "    if (yield from self.run_code(code, result)):\n",
      "  File \"/home/samer2point3/.local/lib/python3.5/site-packages/IPython/core/interactiveshell.py\", line 3267, in run_code\n",
      "    exec(code_obj, self.user_global_ns, self.user_ns)\n",
      "  File \"<ipython-input-4-de7687ac81f9>\", line 9, in <module>\n",
      "    get_ipython().run_line_magic('matplotlib', 'inline')\n",
      "  File \"/home/samer2point3/.local/lib/python3.5/site-packages/IPython/core/interactiveshell.py\", line 2287, in run_line_magic\n",
      "    result = fn(*args,**kwargs)\n",
      "  File \"<decorator-gen-107>\", line 2, in matplotlib\n",
      "  File \"/home/samer2point3/.local/lib/python3.5/site-packages/IPython/core/magic.py\", line 187, in <lambda>\n",
      "    call = lambda f, *a, **k: f(*a, **k)\n",
      "  File \"/home/samer2point3/.local/lib/python3.5/site-packages/IPython/core/magics/pylab.py\", line 99, in matplotlib\n",
      "    gui, backend = self.shell.enable_matplotlib(args.gui)\n",
      "  File \"/home/samer2point3/.local/lib/python3.5/site-packages/IPython/core/interactiveshell.py\", line 3355, in enable_matplotlib\n",
      "    pt.activate_matplotlib(backend)\n",
      "  File \"/home/samer2point3/.local/lib/python3.5/site-packages/IPython/core/pylabtools.py\", line 314, in activate_matplotlib\n",
      "    matplotlib.pyplot.switch_backend(backend)\n",
      "  File \"/home/samer2point3/.local/lib/python3.5/site-packages/matplotlib/pyplot.py\", line 231, in switch_backend\n",
      "    matplotlib.use(newbackend, warn=False, force=True)\n",
      "  File \"/home/samer2point3/.local/lib/python3.5/site-packages/matplotlib/__init__.py\", line 1422, in use\n",
      "    reload(sys.modules['matplotlib.backends'])\n",
      "  File \"/usr/lib/python3.5/importlib/__init__.py\", line 166, in reload\n",
      "    _bootstrap._exec(spec, module)\n",
      "  File \"/home/samer2point3/.local/lib/python3.5/site-packages/matplotlib/backends/__init__.py\", line 16, in <module>\n",
      "    line for line in traceback.format_stack()\n",
      "\n",
      "\n",
      "  matplotlib.use(BACKEND)\n"
     ]
    }
   ],
   "source": [
    "import numpy as np \n",
    "import pandas as pd \n",
    "from scipy import stats\n",
    "import math\n",
    "from datetime import datetime\n",
    "import matplotlib.pyplot as plt # visualizing data\n",
    "import seaborn as sns \n",
    "from collections import Counter\n",
    "%matplotlib inline\n",
    "import pandas_profiling as pP"
   ]
  },
  {
   "cell_type": "markdown",
   "metadata": {},
   "source": [
    "a) Load the data from the file. Perform necessary pre-processing (e.g., missing value replacement, uninformative attribute removal, etc.) and visualise the values of various attributes over the five-year period."
   ]
  },
  {
   "cell_type": "code",
   "execution_count": 118,
   "metadata": {
    "scrolled": true
   },
   "outputs": [
    {
     "name": "stdout",
     "output_type": "stream",
     "text": [
      "Index(['No', 'year', 'month', 'day', 'hour', 'pm2.5', 'Dew', 'Temperature',\n",
      "       'Pressure', 'Wind_Speed', 'Snow', 'Rain', 'Wind_Direction_NE',\n",
      "       'Wind_Direction_NW', 'Wind_Direction_SE', 'Wind_Direction_cv'],\n",
      "      dtype='object')\n"
     ]
    },
    {
     "data": {
      "image/png": "[encoded data removed]",
      "text/plain": [
       "<Figure size 432x288 with 6 Axes>"
      ]
     },
     "metadata": {
      "needs_background": "light"
     },
     "output_type": "display_data"
    },
    {
     "data": {
      "text/plain": [
       "<matplotlib.axes._subplots.AxesSubplot at 0x7fb440aa24a8>"
      ]
     },
     "execution_count": 118,
     "metadata": {},
     "output_type": "execute_result"
    },
    {
     "data": {
      "image/png": "[encoded data removed]",
      "text/plain": [
       "<Figure size 504x216 with 1 Axes>"
      ]
     },
     "metadata": {
      "needs_background": "light"
     },
     "output_type": "display_data"
    }
   ],
   "source": [
    "# write your code here\n",
    "\n",
    "#read file into pandas daraframe\n",
    "with open('./pollution.csv','r') as DF:\n",
    "    PD=pd.read_csv(DF)\n",
    "    \n",
    "#drop rows with missing values (consider filling them isntead)\n",
    "PD=PD.fillna(method='bfill')#subset=['pm2.5'],axis=0)\n",
    "#binary encode catogeric values(wind direction)\n",
    "PD=pd.get_dummies(PD)\n",
    "#remove all data points with annomalies (z-score>=3)\n",
    "PD=PD[(np.abs(stats.zscore(PD)) < 3).all(axis=1)]\n",
    "\n",
    "#group items by year\n",
    "yPD=PD.groupby(['year']).sum()\n",
    "print(PD.columns)\n",
    "\n",
    "i=1\n",
    "for attr in ['Dew','Snow','Rain','pm2.5','Pressure','Temperature']:\n",
    "    plt.subplot(6, 1, i)\n",
    "    plt.plot(PD[attr])\n",
    "    plt.title(attr, y=0.5, loc='right')\n",
    "    i += 1\n",
    "plt.show()\n",
    "\n",
    "#plot the average of each attribute for each year year \n",
    "#PD[['Dew','Snow','Rain','pm2.5','Pressure','Temperature']].plot(kind='line', subplots=True, layout=(2,3), figsize=(16,8), sharex=False)\n",
    "\n",
    "#plot the counts of the different wind direction per year\n",
    "yPD[['Wind_Direction_NE','Wind_Direction_NW', 'Wind_Direction_SE', 'Wind_Direction_cv']].plot(kind='bar', figsize=(7,3))\n",
    "#pP.ProfileReport(AD)\n"
   ]
  },
  {
   "cell_type": "markdown",
   "metadata": {},
   "source": [
    "b) Frame the task as the supervised learning problem as predicting the pollution at the current hour given the pollution measurement and weather conditions at the previous hour. Using the first 4 years' data as the training set and the remaining 1 year's data as the test set. Prepare the training/test sets accordingly."
   ]
  },
  {
   "cell_type": "code",
   "execution_count": 119,
   "metadata": {},
   "outputs": [],
   "source": [
    "from sklearn import preprocessing\n",
    "from sklearn.preprocessing import MinMaxScaler\n",
    "# write your code here\n",
    "\n",
    "def prep(PD,t):\n",
    "    for i in range(t):\n",
    "        pmPlus=PD['pm2.5'].shift(-1)\n",
    "        pmPlus.name='y'\n",
    "        PD=pd.concat([PD,pmPlus], axis=1)\n",
    "        PD.drop(index=PD.index[0], inplace=True)\n",
    "        PD.drop(index=PD.index[PD.shape[0]-1], inplace=True)\n",
    "\n",
    "    #fill missing values with the last valid value\n",
    "    PD=PD.fillna(method='ffill')#PD.mean())\n",
    "    \n",
    "    train_PD=PD[PD['year']!=2014].groupby(['year','month','day','hour']).mean()\n",
    "    test_PD=PD[PD['year']==2014].groupby(['year','month','day','hour']).mean()\n",
    "    minmax=[PD['y'].min(),PD['y'].max()]\n",
    "    \n",
    "    scaler=MinMaxScaler()\n",
    "    train_x=scaler.fit_transform(train_PD.drop(columns=['y','No']).values)\n",
    "    test_x=scaler.fit_transform(test_PD.drop(columns=['y','No']).values)\n",
    "    \n",
    "    train_y=scaler.fit_transform(train_PD['y'].values.reshape(-1,1))\n",
    "    test_y=scaler.fit_transform(test_PD['y'].values.reshape(-1,1))\n",
    "    \n",
    "    #split data\n",
    "\n",
    "    train_size=train_x.shape[0]\n",
    "    test_size=test_x.shape[0]\n",
    "    nfeat=train_x.shape[1]\n",
    "    valid_size=train_size*1//10\n",
    "\n",
    "    valid_x=train_x[:valid_size].reshape(valid_size//t,t,nfeat)\n",
    "    valid_y=train_y[:valid_size]\n",
    "\n",
    "    train_x=train_x[valid_size:].reshape((train_size-valid_size)//t,t,nfeat)\n",
    "    test_x=test_x.reshape(test_size//t,t,nfeat)\n",
    "    \n",
    "    train_y=train_y[valid_size:]\n",
    "    \n",
    "\n",
    "    return train_x, train_y, valid_x, valid_y, test_x, test_y\n",
    "\n"
   ]
  },
  {
   "cell_type": "markdown",
   "metadata": {},
   "source": [
    "c) Train a Recurrent Neural Network (RNN) on the training set. You can split the training set further by using 10% of the data as the validation set and the remaining for training."
   ]
  },
  {
   "cell_type": "code",
   "execution_count": 120,
   "metadata": {},
   "outputs": [
    {
     "name": "stdout",
     "output_type": "stream",
     "text": [
      "_________________________________________________________________\n",
      "Layer (type)                 Output Shape              Param #   \n",
      "=================================================================\n",
      "lstm_29 (LSTM)               (None, 50)                12400     \n",
      "_________________________________________________________________\n",
      "dense_26 (Dense)             (None, 1)                 51        \n",
      "=================================================================\n",
      "Total params: 12,451\n",
      "Trainable params: 12,451\n",
      "Non-trainable params: 0\n",
      "_________________________________________________________________\n",
      "Train on 29455 samples, validate on 3272 samples\n",
      "Epoch 1/50\n",
      " - 11s - loss: 0.0631 - val_loss: 0.0466\n",
      "Epoch 2/50\n",
      " - 3s - loss: 0.0344 - val_loss: 0.0386\n",
      "Epoch 3/50\n",
      " - 3s - loss: 0.0340 - val_loss: 0.0375\n",
      "Epoch 4/50\n",
      " - 3s - loss: 0.0338 - val_loss: 0.0368\n",
      "Epoch 5/50\n",
      " - 3s - loss: 0.0338 - val_loss: 0.0370\n",
      "Epoch 6/50\n",
      " - 3s - loss: 0.0337 - val_loss: 0.0388\n",
      "Epoch 7/50\n",
      " - 3s - loss: 0.0337 - val_loss: 0.0388\n",
      "Epoch 8/50\n",
      " - 3s - loss: 0.0337 - val_loss: 0.0378\n",
      "Epoch 9/50\n",
      " - 3s - loss: 0.0337 - val_loss: 0.0376\n",
      "Epoch 10/50\n",
      " - 3s - loss: 0.0337 - val_loss: 0.0389\n",
      "Epoch 11/50\n",
      " - 3s - loss: 0.0336 - val_loss: 0.0379\n",
      "Epoch 12/50\n",
      " - 3s - loss: 0.0336 - val_loss: 0.0376\n",
      "Epoch 13/50\n",
      " - 4s - loss: 0.0334 - val_loss: 0.0382\n",
      "Epoch 14/50\n",
      " - 4s - loss: 0.0335 - val_loss: 0.0379\n",
      "Epoch 15/50\n",
      " - 4s - loss: 0.0335 - val_loss: 0.0378\n",
      "Epoch 16/50\n",
      " - 3s - loss: 0.0334 - val_loss: 0.0376\n",
      "Epoch 17/50\n",
      " - 3s - loss: 0.0334 - val_loss: 0.0378\n",
      "Epoch 18/50\n",
      " - 3s - loss: 0.0334 - val_loss: 0.0377\n",
      "Epoch 19/50\n",
      " - 3s - loss: 0.0334 - val_loss: 0.0377\n",
      "Epoch 20/50\n",
      " - 3s - loss: 0.0334 - val_loss: 0.0375\n",
      "Epoch 21/50\n",
      " - 3s - loss: 0.0334 - val_loss: 0.0376\n",
      "Epoch 22/50\n",
      " - 3s - loss: 0.0333 - val_loss: 0.0377\n",
      "Epoch 23/50\n",
      " - 3s - loss: 0.0333 - val_loss: 0.0377\n",
      "Epoch 24/50\n",
      " - 3s - loss: 0.0333 - val_loss: 0.0374\n",
      "Epoch 25/50\n",
      " - 3s - loss: 0.0333 - val_loss: 0.0377\n",
      "Epoch 26/50\n",
      " - 3s - loss: 0.0333 - val_loss: 0.0376\n",
      "Epoch 27/50\n",
      " - 3s - loss: 0.0333 - val_loss: 0.0375\n",
      "Epoch 28/50\n",
      " - 3s - loss: 0.0333 - val_loss: 0.0375\n",
      "Epoch 29/50\n",
      " - 3s - loss: 0.0332 - val_loss: 0.0379\n",
      "Epoch 30/50\n",
      " - 5s - loss: 0.0332 - val_loss: 0.0380\n",
      "Epoch 31/50\n",
      " - 4s - loss: 0.0332 - val_loss: 0.0374\n",
      "Epoch 32/50\n",
      " - 4s - loss: 0.0332 - val_loss: 0.0374\n",
      "Epoch 33/50\n",
      " - 3s - loss: 0.0332 - val_loss: 0.0376\n",
      "Epoch 34/50\n",
      " - 3s - loss: 0.0332 - val_loss: 0.0371\n",
      "Epoch 35/50\n",
      " - 3s - loss: 0.0332 - val_loss: 0.0372\n",
      "Epoch 36/50\n",
      " - 4s - loss: 0.0332 - val_loss: 0.0364\n",
      "Epoch 37/50\n",
      " - 5s - loss: 0.0332 - val_loss: 0.0369\n",
      "Epoch 38/50\n",
      " - 4s - loss: 0.0332 - val_loss: 0.0365\n",
      "Epoch 39/50\n",
      " - 3s - loss: 0.0332 - val_loss: 0.0366\n",
      "Epoch 40/50\n",
      " - 5s - loss: 0.0332 - val_loss: 0.0366\n",
      "Epoch 41/50\n",
      " - 3s - loss: 0.0332 - val_loss: 0.0365\n",
      "Epoch 42/50\n",
      " - 3s - loss: 0.0331 - val_loss: 0.0365\n",
      "Epoch 43/50\n",
      " - 3s - loss: 0.0332 - val_loss: 0.0364\n",
      "Epoch 44/50\n",
      " - 3s - loss: 0.0332 - val_loss: 0.0362\n",
      "Epoch 45/50\n",
      " - 4s - loss: 0.0332 - val_loss: 0.0363\n",
      "Epoch 46/50\n",
      " - 3s - loss: 0.0331 - val_loss: 0.0360\n",
      "Epoch 47/50\n",
      " - 4s - loss: 0.0331 - val_loss: 0.0362\n",
      "Epoch 48/50\n",
      " - 4s - loss: 0.0331 - val_loss: 0.0366\n",
      "Epoch 49/50\n",
      " - 4s - loss: 0.0331 - val_loss: 0.0364\n",
      "Epoch 50/50\n",
      " - 4s - loss: 0.0331 - val_loss: 0.0359\n"
     ]
    },
    {
     "data": {
      "image/png": "[encoded data removed]",
      "text/plain": [
       "<Figure size 432x288 with 1 Axes>"
      ]
     },
     "metadata": {
      "needs_background": "light"
     },
     "output_type": "display_data"
    }
   ],
   "source": [
    "from keras.models import Sequential\n",
    "from keras.layers import LSTM, Dense, Activation, Dropout, Masking\n",
    "# write your code here\n",
    "\n",
    "train_x, train_y, valid_x, valid_y, test_x, test_y=prep(PD,1)\n",
    "model = Sequential()\n",
    "#model.add(Masking(mask_value=-1, input_shape=(1, train_x.shape[2])))\n",
    "model.add(LSTM(50,input_shape=(1, train_x.shape[2])))\n",
    "model.add(Dense(1))\n",
    "model.compile(loss='mae', optimizer='adam')\n",
    "# fit network\n",
    "model.summary()\n",
    "history = model.fit(train_x, train_y, epochs=50, batch_size=32, validation_data=(valid_x, valid_y), verbose=2, shuffle=False)\n",
    "# plot history\n",
    "plt.plot(history.history['loss'], label='train')\n",
    "plt.plot(history.history['val_loss'], label='test')\n",
    "plt.legend()\n",
    "plt.show()"
   ]
  },
  {
   "cell_type": "markdown",
   "metadata": {},
   "source": [
    "d) Output the prediction results such as Root Mean Squared Errors (RMSE) on the test set. Remember that after the forecasts have been made, we need to invert the transforms to return the values back into the original scale. This is needed so that we can calculate error scores and plots that are comparable with other models. Plot the predicted values vs. the actual values."
   ]
  },
  {
   "cell_type": "code",
   "execution_count": 121,
   "metadata": {},
   "outputs": [
    {
     "name": "stdout",
     "output_type": "stream",
     "text": [
      "0.0035128709780420262\n"
     ]
    }
   ],
   "source": [
    "from sklearn.metrics import mean_squared_error\n",
    "\n",
    "# write your code here\n",
    "pred_y=model.predict(test_x)\n",
    "print(mean_squared_error(pred_y,test_y))"
   ]
  },
  {
   "cell_type": "markdown",
   "metadata": {},
   "source": [
    "e) Explore different network architectures (e.g., stacked LSTM layers) and various ways in tuning the model parameters to see if you can improve the model performance on the test set. "
   ]
  },
  {
   "cell_type": "code",
   "execution_count": null,
   "metadata": {},
   "outputs": [],
   "source": [
    "# write your code here"
   ]
  },
  {
   "cell_type": "markdown",
   "metadata": {},
   "source": [
    "f) Explore alterative prediction setup by predicting the pollution for the next hour based on the weather conditions and pollution over the last 3 days."
   ]
  },
  {
   "cell_type": "code",
   "execution_count": null,
   "metadata": {},
   "outputs": [],
   "source": [
    "# write your code here"
   ]
  }
 ],
 "metadata": {
  "kernelspec": {
   "display_name": "Python 3",
   "language": "python",
   "name": "python3"
  },
  "language_info": {
   "codemirror_mode": {
    "name": "ipython",
    "version": 3
   },
   "file_extension": ".py",
   "mimetype": "text/x-python",
   "name": "python",
   "nbconvert_exporter": "python",
   "pygments_lexer": "ipython3",
   "version": "3.5.2"
  }
 },
 "nbformat": 4,
 "nbformat_minor": 1
}
