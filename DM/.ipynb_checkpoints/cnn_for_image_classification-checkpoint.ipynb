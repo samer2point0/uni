{
 "cells": [
  {
   "cell_type": "markdown",
   "metadata": {},
   "source": [
    "# CNN for Image Classification\n",
    "\n",
    "In this lab, you are given a dataset containing 6,000 pictures of cats and dogs (3,000 cats, 3,000 dogs) and asked to train a classifier built upon Convolutional Neural Networks (ConvNets) to classify images as \"dogs\" or \"cats\"."
   ]
  },
  {
   "cell_type": "code",
   "execution_count": 1,
   "metadata": {},
   "outputs": [
    {
     "name": "stderr",
     "output_type": "stream",
     "text": [
      "Using TensorFlow backend.\n"
     ]
    }
   ],
   "source": [
    "%matplotlib inline\n",
    "\n",
    "import os\n",
    "import numpy as np\n",
    "import matplotlib.pyplot as plt\n",
    "import cv2\n",
    "\n",
    "import keras\n",
    "from keras import metrics\n",
    "from keras.preprocessing.image import ImageDataGenerator\n",
    "from keras.models import Sequential\n",
    "from keras.layers import Dense, Dropout, Activation, Flatten, BatchNormalization\n",
    "from keras.layers import Conv2D, MaxPooling2D\n",
    "import random"
   ]
  },
  {
   "cell_type": "markdown",
   "metadata": {},
   "source": [
    "### Exercise 1 \n",
    "Split the dataset by selecting 4,800 pictures for training, 600 for validation, and 600 for testing."
   ]
  },
  {
   "cell_type": "code",
   "execution_count": 2,
   "metadata": {},
   "outputs": [],
   "source": [
    "img_width = 50\n",
    "img_height = 50\n",
    "num_classes = 2\n",
    "DATA_DIR = './data/'\n",
    "image_filenames = [DATA_DIR+i for i in os.listdir(DATA_DIR)] # use this for full dataset\n",
    "# Split the data in three sets, 80% for training, 10% for validation and 10% for testing\n",
    "# make sure that the image filenames have a fixed order before shuffling\n",
    "# Add your code here\n",
    "\n",
    "random.shuffle(image_filenames)\n",
    "x, y=[],[]\n",
    "\n",
    "#append each image file to x and each label to y\n",
    "for img in image_filenames:\n",
    "    #reading image into array and then resize it to 50x50 #OPT: interpolation=INTER_AREA\n",
    "    x.append(cv2.resize(cv2.imread(img),(img_height, img_width)))\n",
    "    #use file name to detect label and appaend it to y\n",
    "    if 'cat' in img:\n",
    "        y.append(0)\n",
    "    else:\n",
    "        y.append(1)\n",
    "\n",
    "#split the dats into trait, test and validation\n",
    "x_train,x_test,x_valid=x[0:4800],x[4800:5400],x[5400:6000]\n",
    "y_train,y_test,y_valid=y[0:4800],y[4800:5400],y[5400:6000]\n"
   ]
  },
  {
   "cell_type": "markdown",
   "metadata": {},
   "source": [
    "### Exercise 2\n",
    "Train a Convolutional Neural Network (ConvNet) on the training set. The general structure of the ConvNet will be a stack of alternated Conv2D (with relu activation) and MaxPooling2D layers. A Conv2D layer creates a convolution kernel that is convolved with the layer input to produce a tensor of outputs. A MaxPooling2D layer is used to downscale input in both the vertical and horizontal dimensions."
   ]
  },
  {
   "cell_type": "code",
   "execution_count": 19,
   "metadata": {},
   "outputs": [
    {
     "name": "stdout",
     "output_type": "stream",
     "text": [
      "_________________________________________________________________\n",
      "Layer (type)                 Output Shape              Param #   \n",
      "=================================================================\n",
      "conv2d_6 (Conv2D)            (None, 48, 48, 15)        420       \n",
      "_________________________________________________________________\n",
      "activation_16 (Activation)   (None, 48, 48, 15)        0         \n",
      "_________________________________________________________________\n",
      "max_pooling2d_6 (MaxPooling2 (None, 24, 24, 15)        0         \n",
      "_________________________________________________________________\n",
      "flatten_6 (Flatten)          (None, 8640)              0         \n",
      "_________________________________________________________________\n",
      "dense_11 (Dense)             (None, 25)                216025    \n",
      "_________________________________________________________________\n",
      "activation_17 (Activation)   (None, 25)                0         \n",
      "_________________________________________________________________\n",
      "dense_12 (Dense)             (None, 1)                 26        \n",
      "_________________________________________________________________\n",
      "activation_18 (Activation)   (None, 1)                 0         \n",
      "=================================================================\n",
      "Total params: 216,471\n",
      "Trainable params: 216,471\n",
      "Non-trainable params: 0\n",
      "_________________________________________________________________\n",
      "Epoch 1/10\n",
      "300/300 [==============================] - 26s 88ms/step - loss: 0.6723 - acc: 0.5721 - val_loss: 0.6301 - val_acc: 0.6926\n",
      "Epoch 2/10\n",
      "300/300 [==============================] - 24s 81ms/step - loss: 0.6252 - acc: 0.6521 - val_loss: 0.5902 - val_acc: 0.7277\n",
      "Epoch 3/10\n",
      "300/300 [==============================] - 25s 85ms/step - loss: 0.6023 - acc: 0.6723 - val_loss: 0.5621 - val_acc: 0.7380\n",
      "Epoch 4/10\n",
      "300/300 [==============================] - 26s 86ms/step - loss: 0.5874 - acc: 0.6879 - val_loss: 0.5559 - val_acc: 0.7312\n",
      "Epoch 5/10\n",
      "300/300 [==============================] - 25s 84ms/step - loss: 0.5733 - acc: 0.7002 - val_loss: 0.5460 - val_acc: 0.7346\n",
      "Epoch 6/10\n",
      "300/300 [==============================] - 25s 83ms/step - loss: 0.5563 - acc: 0.7146 - val_loss: 0.5506 - val_acc: 0.7277\n",
      "Epoch 7/10\n",
      "300/300 [==============================] - 29s 97ms/step - loss: 0.5573 - acc: 0.7148 - val_loss: 0.5502 - val_acc: 0.7295\n",
      "Epoch 8/10\n",
      "300/300 [==============================] - 27s 90ms/step - loss: 0.5510 - acc: 0.7244 - val_loss: 0.5256 - val_acc: 0.7500\n",
      "Epoch 9/10\n",
      "300/300 [==============================] - 28s 93ms/step - loss: 0.5383 - acc: 0.7183 - val_loss: 0.5266 - val_acc: 0.7414\n",
      "Epoch 10/10\n",
      "300/300 [==============================] - 27s 92ms/step - loss: 0.5354 - acc: 0.7285 - val_loss: 0.5407 - val_acc: 0.7346\n"
     ]
    }
   ],
   "source": [
    "# Add your code here\n",
    "batch=16\n",
    "epochs=10\n",
    "\n",
    "model =Sequential()\n",
    "#add a convolutional layer with 15 4x4 filters and a relu activation \n",
    "model.add(Conv2D(15,(3,3), input_shape=(img_height,img_width,3)))\n",
    "model.add(Activation('relu'))\n",
    "model.add(MaxPooling2D(pool_size=(2,2)))\n",
    "model.add(Flatten())\n",
    "#add a feedforeward layer with 25 neurons and a relu\n",
    "model.add(Dense(25))\n",
    "model.add(Activation('relu'))\n",
    "model.add(Dense(1))\n",
    "#at the output layer is a sigmoid funtion \n",
    "model.add(Activation('sigmoid'))\n",
    "#compile the model with abinary coress entropy loss functiona nd rms prop optimizer\n",
    "model.compile(loss='binary_crossentropy',optimizer='adam', metrics=['accuracy'])\n",
    "model.summary()\n",
    "\n",
    "#create the data generator objects  for training and validation data\n",
    "Gen=ImageDataGenerator(rescale=1./255,rotation_range=40, fill_mode='nearest')\n",
    "trainGen=Gen.flow(np.array(x_train), y_train, batch_size=batch, shuffle=False)\n",
    "validGen=Gen.flow(np.array(x_valid), y_valid, batch_size=batch, shuffle=False)\n",
    "\n",
    "#fit mdoel\n",
    "history = model.fit_generator(trainGen, steps_per_epoch=4800//batch, epochs=epochs,\n",
    "    validation_data=validGen, validation_steps=600//batch )"
   ]
  },
  {
   "cell_type": "markdown",
   "metadata": {},
   "source": [
    "### Exercise 3\n",
    "\n",
    "Output the training/validation loss and accuracy curves. Also print the classification results (e.g., classification accuracy, confusion matrix, precision-recall curves and/or ROC curves) on the test set."
   ]
  },
  {
   "cell_type": "code",
   "execution_count": 20,
   "metadata": {},
   "outputs": [
    {
     "data": {
      "image/png": "[encoded data removed]",
      "text/plain": [
       "<Figure size 432x288 with 2 Axes>"
      ]
     },
     "metadata": {
      "needs_background": "light"
     },
     "output_type": "display_data"
    },
    {
     "name": "stdout",
     "output_type": "stream",
     "text": [
      "              precision    recall  f1-score   support\n",
      "\n",
      "           0       0.70      0.41      0.52       282\n",
      "           1       0.62      0.84      0.71       318\n",
      "\n",
      "   micro avg       0.64      0.64      0.64       600\n",
      "   macro avg       0.66      0.63      0.62       600\n",
      "weighted avg       0.66      0.64      0.62       600\n",
      "\n",
      "[[117 165]\n",
      " [ 50 268]]\n",
      "0.6416666666666667\n"
     ]
    },
    {
     "data": {
      "image/png": "[encoded data removed]",
      "text/plain": [
       "<Figure size 432x288 with 2 Axes>"
      ]
     },
     "metadata": {
      "needs_background": "light"
     },
     "output_type": "display_data"
    }
   ],
   "source": [
    "from sklearn.metrics import accuracy_score, classification_report, confusion_matrix, precision_recall_curve, roc_curve\n",
    "\n",
    "# Add your code here\n",
    "\n",
    "#plot the training and validation loss curves\n",
    "plt.subplot(2, 1, 1)\n",
    "plt.title('loss')\n",
    "plt.plot(history.history['loss'], label='train')\n",
    "plt.plot(history.history['val_loss'], label='test')\n",
    "plt.legend()\n",
    "\n",
    "#plot the training and validation accuracy curves\n",
    "plt.subplot(2, 1, 2)\n",
    "plt.title('accuracy')\n",
    "plt.plot(history.history['acc'], label='train')\n",
    "plt.plot(history.history['val_acc'], label='test')\n",
    "plt.legend()\n",
    "plt.show()\n",
    "\n",
    "#saving the prediction probabilities in pred_train_y and pred_valid_Y\n",
    "pred_test_y=model.predict(np.array(x_test), batch_size=batch)\n",
    "\n",
    "#outputing the classification report, accuracy and the confusion matrix of the training dataset\n",
    "print(classification_report(y_test,pred_test_y.round()))\n",
    "print(confusion_matrix(y_test,pred_test_y.round()))\n",
    "print(accuracy_score(y_test,pred_test_y.round()))\n",
    "\n",
    "#find the percision, true positive rates, and false negative rates\n",
    "p,r,_=precision_recall_curve(y_test,pred_test_y)\n",
    "fpr, tpr, _=roc_curve(y_test,pred_test_y)\n",
    "\n",
    "#plot the pervision vs recall\n",
    "plt.figure()\n",
    "plt.subplot(2, 1, 1)\n",
    "plt.title('Percision vs Recall')\n",
    "plt.plot(p,r, label='train')\n",
    "plt.legend()\n",
    "\n",
    "#plot the false positive rate vs true positive rate\n",
    "plt.subplot(2, 1, 2)\n",
    "plt.title('false positives vs false negatives')\n",
    "plt.plot(fpr, tpr, label='train')\n",
    "plt.legend()\n",
    "plt.show()\n"
   ]
  },
  {
   "cell_type": "markdown",
   "metadata": {},
   "source": [
    "### Exercise 4\n",
    "\n",
    "Explore different network architectures (e.g., stacking 4 Conv2D+MaxPooling2D layers) and various ways in tuning the model parameters to see if you can improve the model performance on the validation set."
   ]
  },
  {
   "cell_type": "code",
   "execution_count": null,
   "metadata": {},
   "outputs": [
    {
     "name": "stdout",
     "output_type": "stream",
     "text": [
      "_________________________________________________________________\n",
      "Layer (type)                 Output Shape              Param #   \n",
      "=================================================================\n",
      "conv2d_63 (Conv2D)           (None, 49, 49, 24)        312       \n",
      "_________________________________________________________________\n",
      "activation_103 (Activation)  (None, 49, 49, 24)        0         \n",
      "_________________________________________________________________\n",
      "conv2d_64 (Conv2D)           (None, 48, 48, 16)        1552      \n",
      "_________________________________________________________________\n",
      "activation_104 (Activation)  (None, 48, 48, 16)        0         \n",
      "_________________________________________________________________\n",
      "max_pooling2d_45 (MaxPooling (None, 24, 24, 16)        0         \n",
      "_________________________________________________________________\n",
      "conv2d_65 (Conv2D)           (None, 22, 22, 16)        2320      \n",
      "_________________________________________________________________\n",
      "activation_105 (Activation)  (None, 22, 22, 16)        0         \n",
      "_________________________________________________________________\n",
      "max_pooling2d_46 (MaxPooling (None, 11, 11, 16)        0         \n",
      "_________________________________________________________________\n",
      "conv2d_66 (Conv2D)           (None, 9, 9, 24)          3480      \n",
      "_________________________________________________________________\n",
      "activation_106 (Activation)  (None, 9, 9, 24)          0         \n",
      "_________________________________________________________________\n",
      "max_pooling2d_47 (MaxPooling (None, 4, 4, 24)          0         \n",
      "_________________________________________________________________\n",
      "flatten_21 (Flatten)         (None, 384)               0         \n",
      "_________________________________________________________________\n",
      "dense_41 (Dense)             (None, 16)                6160      \n",
      "_________________________________________________________________\n",
      "activation_107 (Activation)  (None, 16)                0         \n",
      "_________________________________________________________________\n",
      "dense_42 (Dense)             (None, 1)                 17        \n",
      "_________________________________________________________________\n",
      "activation_108 (Activation)  (None, 1)                 0         \n",
      "=================================================================\n",
      "Total params: 13,841\n",
      "Trainable params: 13,841\n",
      "Non-trainable params: 0\n",
      "_________________________________________________________________\n",
      "Epoch 1/10\n",
      "300/300 [==============================] - 28s 94ms/step - loss: 0.6893 - acc: 0.5377 - val_loss: 0.6727 - val_acc: 0.6267\n",
      "Epoch 2/10\n",
      "300/300 [==============================] - 21s 70ms/step - loss: 0.6634 - acc: 0.6017 - val_loss: 0.6369 - val_acc: 0.6404\n",
      "Epoch 3/10\n",
      "300/300 [==============================] - 23s 77ms/step - loss: 0.6313 - acc: 0.6604 - val_loss: 0.5770 - val_acc: 0.7106\n",
      "Epoch 4/10\n",
      "300/300 [==============================] - 35s 116ms/step - loss: 0.5983 - acc: 0.6800 - val_loss: 0.5416 - val_acc: 0.7363\n",
      "Epoch 5/10\n",
      "300/300 [==============================] - 32s 107ms/step - loss: 0.5783 - acc: 0.6933 - val_loss: 0.5256 - val_acc: 0.7346\n",
      "Epoch 6/10\n",
      "300/300 [==============================] - 26s 85ms/step - loss: 0.5603 - acc: 0.7073 - val_loss: 0.5195 - val_acc: 0.7705\n",
      "Epoch 7/10\n",
      "300/300 [==============================] - 35s 118ms/step - loss: 0.5379 - acc: 0.7283 - val_loss: 0.5154 - val_acc: 0.7551\n",
      "Epoch 8/10\n",
      "245/300 [=======================>......] - ETA: 7s - loss: 0.5329 - acc: 0.7327"
     ]
    }
   ],
   "source": [
    "# Add your code here\n",
    "batch=16\n",
    "epochs=10\n",
    "\n",
    "#stack 4 conv layers, the first without a pooling layer\n",
    "model = Sequential()\n",
    "model.add(Conv2D(24,(2,2), input_shape=(img_height,img_width,3)))\n",
    "model.add(Activation('relu'))\n",
    "#model.add(MaxPooling2D(pool_size=(2, 2)))\n",
    "\n",
    "model.add(Conv2D(, (2, 2)))\n",
    "model.add(Activation('relu'))\n",
    "#model.add(MaxPooling2D(pool_size=(2, 2)))\n",
    "\n",
    "model.add(Conv2D(16, (3, 3)))\n",
    "model.add(Activation('relu'))\n",
    "model.add(MaxPooling2D(pool_size=(2, 2)))\n",
    "\n",
    "model.add(Conv2D(24, (3, 3)))\n",
    "model.add(Activation('relu'))\n",
    "model.add(MaxPooling2D(pool_size=(2, 2)))\n",
    "model.add(Flatten())\n",
    "\n",
    "#add a feedforeward layer with 16 neurons \n",
    "model.add(Dense(16))\n",
    "model.add(Activation('relu'))\n",
    "model.add(Dense(1))\n",
    "model.add(Activation('sigmoid'))\n",
    "model.compile(loss='binary_crossentropy', optimizer='adam', metrics=['accuracy'])\n",
    "\n",
    "model.summary()\n",
    "\n",
    "#create the data generator objects  for training and validation data\n",
    "Gen=ImageDataGenerator(rescale=1./255,rotation_range=40, fill_mode='nearest')\n",
    "trainGen=Gen.flow(np.array(x_train), y_train, batch_size=batch, shuffle=False)\n",
    "validGen=Gen.flow(np.array(x_valid), y_valid, batch_size=batch, shuffle=False)\n",
    "\n",
    "history = model.fit_generator(\n",
    "    trainGen, \n",
    "    steps_per_epoch=4800//batch,\n",
    "    epochs=epochs,\n",
    "    validation_data=validGen,\n",
    "    validation_steps=600//batch\n",
    ")"
   ]
  },
  {
   "cell_type": "markdown",
   "metadata": {},
   "source": [
    "### Exercise 5\n",
    "\n",
    "Apply the trained model on the testing set and output the classification results."
   ]
  },
  {
   "cell_type": "code",
   "execution_count": 42,
   "metadata": {},
   "outputs": [
    {
     "name": "stdout",
     "output_type": "stream",
     "text": [
      "              precision    recall  f1-score   support\n",
      "\n",
      "           0       0.83      0.21      0.33       282\n",
      "           1       0.58      0.96      0.72       318\n",
      "\n",
      "   micro avg       0.61      0.61      0.61       600\n",
      "   macro avg       0.70      0.59      0.53       600\n",
      "weighted avg       0.70      0.61      0.54       600\n",
      "\n",
      "[[ 59 223]\n",
      " [ 12 306]]\n",
      "0.6083333333333333\n"
     ]
    },
    {
     "data": {
      "image/png": "[encoded data removed]",
      "text/plain": [
       "<Figure size 432x288 with 2 Axes>"
      ]
     },
     "metadata": {
      "needs_background": "light"
     },
     "output_type": "display_data"
    }
   ],
   "source": [
    "# Add your code here\n",
    "\n",
    "pred_test_y=model.predict(np.array(x_test), batch_size=batch)\n",
    "#outputing the classification report, accuracy and the confusion matrix of the validation dataset\n",
    "print(classification_report(y_test,pred_test_y.round()))\n",
    "print(confusion_matrix(y_test,pred_test_y.round()))\n",
    "print(accuracy_score(y_test,pred_test_y.round()))\n",
    "\n",
    "#find the percision, true positive rates, and false negative rates\n",
    "p,r,_=precision_recall_curve(y_test,pred_test_y)\n",
    "fpr, tpr, _=roc_curve(y_test,pred_test_y)\n",
    "\n",
    "#plot the pervision vs recall\n",
    "plt.figure()\n",
    "plt.subplot(2, 1, 1)\n",
    "plt.title('Percision vs Recall')\n",
    "plt.plot(p,r, label='train')\n",
    "plt.legend()\n",
    "\n",
    "#plot the false positive rate vs true positive rate\n",
    "plt.subplot(2, 1, 2)\n",
    "plt.title('false positives vs false negatives')\n",
    "plt.plot(fpr, tpr, label='train')\n",
    "plt.legend()\n",
    "plt.show()"
   ]
  },
  {
   "cell_type": "markdown",
   "metadata": {},
   "source": [
    "### Exercise 6 \n",
    "\n",
    "Plot the saliency map of original image to see which part is important for making classification decisions. You can refer to the following blog article on how to generate visualisation results of the filters in the ConvNets.\n",
    "https://blog.keras.io/how-convolutional-neural-networks-see-the-world.html"
   ]
  },
  {
   "cell_type": "code",
   "execution_count": null,
   "metadata": {},
   "outputs": [],
   "source": [
    "# Add your code here"
   ]
  }
 ],
 "metadata": {
  "kernelspec": {
   "display_name": "Python 3",
   "language": "python",
   "name": "python3"
  },
  "language_info": {
   "codemirror_mode": {
    "name": "ipython",
    "version": 3
   },
   "file_extension": ".py",
   "mimetype": "text/x-python",
   "name": "python",
   "nbconvert_exporter": "python",
   "pygments_lexer": "ipython3",
   "version": "3.5.2"
  }
 },
 "nbformat": 4,
 "nbformat_minor": 1
}
