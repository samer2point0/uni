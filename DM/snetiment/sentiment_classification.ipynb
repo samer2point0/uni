{
 "cells": [
  {
   "cell_type": "markdown",
   "metadata": {},
   "source": [
    "## Sentiment Classification: classifying IMDB reviews\n",
    "\n",
    "In this task, you will learn how to process text data and how to train neural networks with limited input text data using pre-trained embeddings for sentiment classification (classifying a review document as \"positive\" or \"negative\" based solely on the text content of the review)."
   ]
  },
  {
   "cell_type": "markdown",
   "metadata": {},
   "source": [
    "We will use the `Embedding` layer in Keras to represent text input. The `Embedding` layer is best understood as a dictionary mapping integer indices (which stand for specific words) to dense vectors. It takes as input integers, then looks up these integers into an internal dictionary, and finally returns the associated vectors. It's effectively a dictionary lookup.\n",
    "\n",
    "The `Embedding` layer takes as input a 2D tensor of integers, of shape `(samples, sequence_length)`, where each entry is a sequence of integers. It can embed sequences of variable lengths, so for instance we could feed into our embedding layer above batches that could have  shapes `(32, 10)` (batch of 32 sequences of length 10) or `(64, 15)` (batch of 64 sequences of length 15). All sequences in a batch must have the same length, though (since we need to pack them into a single tensor), so sequences that are shorter than others should be padded with zeros, and sequences that are longer should be truncated.\n",
    "\n",
    "This layer returns a 3D floating point tensor, of shape `(samples, sequence_length, embedding_dimensionality)`. Such a 3D tensor can then be processed by a RNN layer or a 1D convolution layer.\n",
    "\n",
    "You can instantiate the `Embedding` layer by randomly initialising its weights (its internal dictionary of token vectors). During training, these word vectors will be gradually adjusted via backpropagation, structuring the space into something that the downstream model can exploit. Once fully trained, your embedding space will show a lot of structure -- a kind of structure specialized for the specific problem you were training your model for. You can also instantiate the `Embedding` layer by intialising its weights using the pre-trained word embeddings, such as GloVe word embeddings pretrained from Wikipedia articles."
   ]
  },
  {
   "cell_type": "markdown",
   "metadata": {},
   "source": [
    "#### a) Download the IMDB data as raw text\n",
    "\n",
    "First, create a \"data\" directory, then head to `http://ai.stanford.edu/~amaas/data/sentiment/` and download the raw IMDB dataset (if the URL isn't working anymore, just Google \"IMDB dataset\"). Save it into the \"data\" directory. Uncompress it. Store the individual reviews into a list of strings, one string per review, and also collect the review labels (positive / negative) into a separate `labels` list."
   ]
  },
  {
   "cell_type": "code",
   "execution_count": 70,
   "metadata": {},
   "outputs": [],
   "source": [
    "import os\n",
    "import random\n",
    "import numpy as np\n",
    "# write your code here\n",
    "\n",
    "train_l=[]\n",
    "test_l=[]\n",
    "tk=[] #contains both trainging and testing datasets\n",
    "\n",
    "#read the files in the train folder and label them according to subfolder\n",
    "train_path='data/aclImdb/train/'\n",
    "#2000 reviews half positive and half negative\n",
    "train_pos_filenames = [train_path+'pos/'+i for i in os.listdir(train_path+'pos')][:10000]\n",
    "train_neg_filenames= [train_path+'neg/'+i for i in os.listdir(train_path+'neg')][:10000]\n",
    "for i in range(2*len(train_pos_filenames)):\n",
    "    if i%2==0:\n",
    "        t=train_pos_filenames\n",
    "        label=0\n",
    "    else:\n",
    "        t=train_neg_filenames\n",
    "        label=1\n",
    "    with open(t[i//2], 'r') as f:\n",
    "        text=f.read()\n",
    "        train_l.append((text,label))\n",
    "        tk.append(text)\n",
    "\n",
    "        \n",
    "#read the files in the test folder and label them according to subfolder\n",
    "test_path='data/aclImdb/test/'\n",
    "#2000 reviews half positive and half negative\n",
    "test_pos_filenames = [test_path+'pos/'+i for i in os.listdir(test_path+'pos')][:1000]\n",
    "test_neg_filenames= [test_path+'neg/'+i for i in os.listdir(test_path+'neg')][:1000]\n",
    "for i in range(2*len(test_pos_filenames)):\n",
    "    if i%2==0:\n",
    "        t=test_pos_filenames\n",
    "        label=0\n",
    "    else:\n",
    "        t=test_neg_filenames\n",
    "        label=1\n",
    "    with open(t[i//2], 'r') as f:\n",
    "        text=f.read()\n",
    "        test_l.append((text,label))\n",
    "        tk.append(text)\n",
    "\n",
    "#shuffle samples\n",
    "random.shuffle(train_l)\n",
    "random.shuffle(test_l)\n",
    "\n",
    "#split training into training and validation\n",
    "train_x, train_y = zip(*train_l)\n",
    "test_x, test_y = zip(*test_l)\n",
    "valid_x,valid_y=train_x[:len(train_x)*1//10],train_y[:len(train_y)*1//10]\n",
    "train_x,train_y=train_x[len(train_x)*1//10:],train_y[len(train_y)*1//10:]\n",
    "\n",
    "#transform outputs to numpy arrays \n",
    "train_y=np.array(train_y)\n",
    "valid_y=np.array(valid_y)\n",
    "test_y=np.array(test_y)\n",
    "#inputs will undergo more processing first\n"
   ]
  },
  {
   "cell_type": "markdown",
   "metadata": {},
   "source": [
    "#### b) Pre-process the review documents \n",
    "\n",
    "Pre-process review documents by tokenisation and split the data into the training and testing sets. You can restrict the training data to the first 1000 reviews and only consider the top 5,000 words in the dataset. You can also cut reviews after 100 words (that is, each review contains a maximum of 100 words)."
   ]
  },
  {
   "cell_type": "code",
   "execution_count": 71,
   "metadata": {
    "scrolled": true
   },
   "outputs": [
    {
     "ename": "MemoryError",
     "evalue": "",
     "output_type": "error",
     "traceback": [
      "\u001b[0;31m---------------------------------------------------------------------------\u001b[0m",
      "\u001b[0;31mMemoryError\u001b[0m                               Traceback (most recent call last)",
      "\u001b[0;32m<ipython-input-71-6b1ccf57a108>\u001b[0m in \u001b[0;36m<module>\u001b[0;34m\u001b[0m\n\u001b[1;32m     19\u001b[0m \u001b[0midf\u001b[0m\u001b[0;34m=\u001b[0m\u001b[0mtfidf\u001b[0m\u001b[0;34m.\u001b[0m\u001b[0mfit_transform\u001b[0m\u001b[0;34m(\u001b[0m\u001b[0mtk\u001b[0m\u001b[0;34m)\u001b[0m\u001b[0;34m\u001b[0m\u001b[0m\n\u001b[1;32m     20\u001b[0m \u001b[0;31m#transform idf matrix into a 2d matrix and list the mean tdidf for each word\u001b[0m\u001b[0;34m\u001b[0m\u001b[0;34m\u001b[0m\u001b[0m\n\u001b[0;32m---> 21\u001b[0;31m \u001b[0mwords_tdidf\u001b[0m\u001b[0;34m=\u001b[0m\u001b[0midf\u001b[0m\u001b[0;34m.\u001b[0m\u001b[0mtodense\u001b[0m\u001b[0;34m(\u001b[0m\u001b[0;34m)\u001b[0m\u001b[0;34m.\u001b[0m\u001b[0mmean\u001b[0m\u001b[0;34m(\u001b[0m\u001b[0maxis\u001b[0m\u001b[0;34m=\u001b[0m\u001b[0;36m0\u001b[0m\u001b[0;34m)\u001b[0m\u001b[0;34m.\u001b[0m\u001b[0mtolist\u001b[0m\u001b[0;34m(\u001b[0m\u001b[0;34m)\u001b[0m\u001b[0;34m[\u001b[0m\u001b[0;36m0\u001b[0m\u001b[0;34m]\u001b[0m\u001b[0;34m\u001b[0m\u001b[0m\n\u001b[0m\u001b[1;32m     22\u001b[0m \u001b[0;31m#match each tdidf score with the word and put in a list of tuples\u001b[0m\u001b[0;34m\u001b[0m\u001b[0;34m\u001b[0m\u001b[0m\n\u001b[1;32m     23\u001b[0m \u001b[0mtop_tokens\u001b[0m\u001b[0;34m=\u001b[0m\u001b[0msorted\u001b[0m\u001b[0;34m(\u001b[0m\u001b[0mtfidf\u001b[0m\u001b[0;34m.\u001b[0m\u001b[0mvocabulary_\u001b[0m\u001b[0;34m)\u001b[0m\u001b[0;34m\u001b[0m\u001b[0m\n",
      "\u001b[0;32m~/.local/lib/python3.5/site-packages/scipy/sparse/base.py\u001b[0m in \u001b[0;36mtodense\u001b[0;34m(self, order, out)\u001b[0m\n\u001b[1;32m    844\u001b[0m             \u001b[0;31m`\u001b[0m\u001b[0mnumpy\u001b[0m\u001b[0;34m.\u001b[0m\u001b[0mmatrix\u001b[0m\u001b[0;31m`\u001b[0m \u001b[0mobject\u001b[0m \u001b[0mthat\u001b[0m \u001b[0mshares\u001b[0m \u001b[0mthe\u001b[0m \u001b[0msame\u001b[0m \u001b[0mmemory\u001b[0m\u001b[0;34m.\u001b[0m\u001b[0;34m\u001b[0m\u001b[0m\n\u001b[1;32m    845\u001b[0m         \"\"\"\n\u001b[0;32m--> 846\u001b[0;31m         \u001b[0;32mreturn\u001b[0m \u001b[0mnp\u001b[0m\u001b[0;34m.\u001b[0m\u001b[0masmatrix\u001b[0m\u001b[0;34m(\u001b[0m\u001b[0mself\u001b[0m\u001b[0;34m.\u001b[0m\u001b[0mtoarray\u001b[0m\u001b[0;34m(\u001b[0m\u001b[0morder\u001b[0m\u001b[0;34m=\u001b[0m\u001b[0morder\u001b[0m\u001b[0;34m,\u001b[0m \u001b[0mout\u001b[0m\u001b[0;34m=\u001b[0m\u001b[0mout\u001b[0m\u001b[0;34m)\u001b[0m\u001b[0;34m)\u001b[0m\u001b[0;34m\u001b[0m\u001b[0m\n\u001b[0m\u001b[1;32m    847\u001b[0m \u001b[0;34m\u001b[0m\u001b[0m\n\u001b[1;32m    848\u001b[0m     \u001b[0;32mdef\u001b[0m \u001b[0mtoarray\u001b[0m\u001b[0;34m(\u001b[0m\u001b[0mself\u001b[0m\u001b[0;34m,\u001b[0m \u001b[0morder\u001b[0m\u001b[0;34m=\u001b[0m\u001b[0;32mNone\u001b[0m\u001b[0;34m,\u001b[0m \u001b[0mout\u001b[0m\u001b[0;34m=\u001b[0m\u001b[0;32mNone\u001b[0m\u001b[0;34m)\u001b[0m\u001b[0;34m:\u001b[0m\u001b[0;34m\u001b[0m\u001b[0m\n",
      "\u001b[0;32m~/.local/lib/python3.5/site-packages/scipy/sparse/compressed.py\u001b[0m in \u001b[0;36mtoarray\u001b[0;34m(self, order, out)\u001b[0m\n\u001b[1;32m    945\u001b[0m         \u001b[0;32mif\u001b[0m \u001b[0mout\u001b[0m \u001b[0;32mis\u001b[0m \u001b[0;32mNone\u001b[0m \u001b[0;32mand\u001b[0m \u001b[0morder\u001b[0m \u001b[0;32mis\u001b[0m \u001b[0;32mNone\u001b[0m\u001b[0;34m:\u001b[0m\u001b[0;34m\u001b[0m\u001b[0m\n\u001b[1;32m    946\u001b[0m             \u001b[0morder\u001b[0m \u001b[0;34m=\u001b[0m \u001b[0mself\u001b[0m\u001b[0;34m.\u001b[0m\u001b[0m_swap\u001b[0m\u001b[0;34m(\u001b[0m\u001b[0;34m'cf'\u001b[0m\u001b[0;34m)\u001b[0m\u001b[0;34m[\u001b[0m\u001b[0;36m0\u001b[0m\u001b[0;34m]\u001b[0m\u001b[0;34m\u001b[0m\u001b[0m\n\u001b[0;32m--> 947\u001b[0;31m         \u001b[0mout\u001b[0m \u001b[0;34m=\u001b[0m \u001b[0mself\u001b[0m\u001b[0;34m.\u001b[0m\u001b[0m_process_toarray_args\u001b[0m\u001b[0;34m(\u001b[0m\u001b[0morder\u001b[0m\u001b[0;34m,\u001b[0m \u001b[0mout\u001b[0m\u001b[0;34m)\u001b[0m\u001b[0;34m\u001b[0m\u001b[0m\n\u001b[0m\u001b[1;32m    948\u001b[0m         \u001b[0;32mif\u001b[0m \u001b[0;32mnot\u001b[0m \u001b[0;34m(\u001b[0m\u001b[0mout\u001b[0m\u001b[0;34m.\u001b[0m\u001b[0mflags\u001b[0m\u001b[0;34m.\u001b[0m\u001b[0mc_contiguous\u001b[0m \u001b[0;32mor\u001b[0m \u001b[0mout\u001b[0m\u001b[0;34m.\u001b[0m\u001b[0mflags\u001b[0m\u001b[0;34m.\u001b[0m\u001b[0mf_contiguous\u001b[0m\u001b[0;34m)\u001b[0m\u001b[0;34m:\u001b[0m\u001b[0;34m\u001b[0m\u001b[0m\n\u001b[1;32m    949\u001b[0m             \u001b[0;32mraise\u001b[0m \u001b[0mValueError\u001b[0m\u001b[0;34m(\u001b[0m\u001b[0;34m'Output array must be C or F contiguous'\u001b[0m\u001b[0;34m)\u001b[0m\u001b[0;34m\u001b[0m\u001b[0m\n",
      "\u001b[0;32m~/.local/lib/python3.5/site-packages/scipy/sparse/base.py\u001b[0m in \u001b[0;36m_process_toarray_args\u001b[0;34m(self, order, out)\u001b[0m\n\u001b[1;32m   1182\u001b[0m             \u001b[0;32mreturn\u001b[0m \u001b[0mout\u001b[0m\u001b[0;34m\u001b[0m\u001b[0m\n\u001b[1;32m   1183\u001b[0m         \u001b[0;32melse\u001b[0m\u001b[0;34m:\u001b[0m\u001b[0;34m\u001b[0m\u001b[0m\n\u001b[0;32m-> 1184\u001b[0;31m             \u001b[0;32mreturn\u001b[0m \u001b[0mnp\u001b[0m\u001b[0;34m.\u001b[0m\u001b[0mzeros\u001b[0m\u001b[0;34m(\u001b[0m\u001b[0mself\u001b[0m\u001b[0;34m.\u001b[0m\u001b[0mshape\u001b[0m\u001b[0;34m,\u001b[0m \u001b[0mdtype\u001b[0m\u001b[0;34m=\u001b[0m\u001b[0mself\u001b[0m\u001b[0;34m.\u001b[0m\u001b[0mdtype\u001b[0m\u001b[0;34m,\u001b[0m \u001b[0morder\u001b[0m\u001b[0;34m=\u001b[0m\u001b[0morder\u001b[0m\u001b[0;34m)\u001b[0m\u001b[0;34m\u001b[0m\u001b[0m\n\u001b[0m\u001b[1;32m   1185\u001b[0m \u001b[0;34m\u001b[0m\u001b[0m\n\u001b[1;32m   1186\u001b[0m \u001b[0;34m\u001b[0m\u001b[0m\n",
      "\u001b[0;31mMemoryError\u001b[0m: "
     ]
    }
   ],
   "source": [
    "from keras.preprocessing.text import Tokenizer\n",
    "from keras.preprocessing.sequence import pad_sequences\n",
    "from sklearn.feature_extraction.text import TfidfVectorizer\n",
    "import numpy as np\n",
    "import scipy\n",
    "\n",
    "# write your code here\n",
    "\n",
    "#the list was compiled by first looking into the words with the top tfidf rates\n",
    "#removed words indicating negation(e.g. not) and exagration(e.g. very) from list \n",
    "stopwords=['the', 'and', 'of', 'to', 'is', 'br', 'it', 'in', 'this', 'that', 'was','with', 'as', 'for', 'you', \n",
    "'on', 'are', 'he', 'have', 'his', 'be', 'one', 'at', 'they', 'all', 'who', 'by', 'from', 'so', 'an', 'off',\n",
    "'there', 'her', 'if','out', 'or', 'about', 'just', 'has', 'what', 'can', 'some', 'when', 'she', 'up', 'my',\n",
    "'their', 'which', 'me', 'were', 'had', 'we', 'well', 'get', 'than', 'because', 'will', 'did', 'your','over'\n",
    "'been', 'its', 'other', 'do', 'also', 'into''him', 'how', 'too', 'them', 'after', 'any', 'then', 'before','those']\n",
    "\n",
    "#find the top 5000 words with the highest avg tdidf scores across all reviews\n",
    "tfidf = TfidfVectorizer(max_features=5000, stop_words=stopwords)\n",
    "idf=tfidf.fit_transform(tk)\n",
    "#transform idf matrix into a 2d matrix and list the mean tdidf for each word\n",
    "words_tdidf=idf.todense().mean(axis=0).tolist()[0]\n",
    "#match each tdidf score with the word and put in a list of tuples\n",
    "top_tokens=sorted(tfidf.vocabulary_)\n",
    "d=list(zip(top_tokens,words_tdidf))\n",
    "\n",
    "#initilise tokenizer and set word_counts attributes and word_index\n",
    "token=Tokenizer()\n",
    "\n",
    "token.word_counts=d #replace word counts with word tdidf score \n",
    "token.word_index=tfidf.vocabulary_ #set tokeniser vocubulary to idf vocabulary\n",
    "\n",
    "#transform text to sequence of strings\n",
    "tk_train_x=token.texts_to_sequences(train_x)\n",
    "tk_valid_x=token.texts_to_sequences(valid_x)\n",
    "tk_test_x=token.texts_to_sequences(test_x)\n",
    "\n",
    "#pad the input to have 100 items \n",
    "tk_train_x=pad_sequences(tk_train_x, maxlen = 100, padding = \"post\", truncating = \"post\", value = 0)\n",
    "tk_valid_x=pad_sequences(tk_valid_x, maxlen = 100, padding = \"post\", truncating = \"post\", value = 0)\n",
    "tk_test_x=pad_sequences(tk_test_x, maxlen = 100, padding = \"post\", truncating = \"post\", value = 0)\n",
    "\n"
   ]
  },
  {
   "cell_type": "markdown",
   "metadata": {},
   "source": [
    "# c) Download the GloVe word embeddings and map each word in the dataset into its pre-trained GloVe word embedding.\n",
    "\n",
    "\n",
    "First go to `https://nlp.stanford.edu/projects/glove/` and download the pre-trained \n",
    "embeddings from 2014 English Wikipedia into the \"data\" directory. It's a 822MB zip file named `glove.6B.zip`, containing 100-dimensional embedding vectors for \n",
    "400,000 words (or non-word tokens). Un-zip it.\n",
    "\n",
    "Parse the un-zipped file (it's a `txt` file) to build an index mapping words (as strings) to their vector representation (as number vectors).\n",
    "\n",
    "Build an embedding matrix that will be loaded into an `Embedding` layer later. It must be a matrix of shape `(max_words, embedding_dim)`, where each entry `i` contains the `embedding_dim`-dimensional vector for the word of index `i` in our reference word index \n",
    "(built during tokenization). Note that the index `0` is not supposed to stand for any word or token -- it's a placeholder."
   ]
  },
  {
   "cell_type": "code",
   "execution_count": null,
   "metadata": {},
   "outputs": [],
   "source": [
    "# write your code here\n",
    "\n",
    "#initialise glove file path and embedding matrix \n",
    "glove_path='./glove.6B.100d.txt'\n",
    "wn=len(top_tokens)+1\n",
    "embed_matrix=np.zeros((wn,100))\n",
    "\n",
    "#open glove text file and save it to content\n",
    "with open(glove_path, encoding=\"utf8\" ) as f:\n",
    "    content = f.readlines()\n",
    "    \n",
    "#for each line check if word in list of top words \n",
    "#if it is then add the word embedding 100d vector to the embed_matrix\n",
    "for line in content:\n",
    "    splitLine = line.split()\n",
    "    word = splitLine[0]\n",
    "    if word in top_tokens:\n",
    "        index=top_tokens.index(word)\n",
    "        embedding = np.asarray(splitLine[1:])\n",
    "        embed_matrix[index+1] = embedding\n",
    "\n",
    "\n"
   ]
  },
  {
   "cell_type": "markdown",
   "metadata": {},
   "source": [
    "#### d) Build and train a simple Sequential model\n",
    "\n",
    "The model contains an Embedding Layer with maximum number of tokens to be 10,000 and embedding dimensionality as 100. Initialise the Embedding Layer with the pre-trained GloVe word vectors. Set the maximum length of each review to 100. Flatten the 3D embedding output to 2D and add a Dense Layer which is the classifier. Train the model with a 'rmsprop' optimiser. You need to freeze the embedding layer by setting its `trainable` attribute to `False` so that its weights will not be updated during training."
   ]
  },
  {
   "cell_type": "code",
   "execution_count": 45,
   "metadata": {
    "scrolled": true
   },
   "outputs": [
    {
     "name": "stdout",
     "output_type": "stream",
     "text": [
      "_________________________________________________________________\n",
      "Layer (type)                 Output Shape              Param #   \n",
      "=================================================================\n",
      "input_13 (InputLayer)        (None, 100)               0         \n",
      "_________________________________________________________________\n",
      "embedding_13 (Embedding)     (None, 100, 100)          500100    \n",
      "_________________________________________________________________\n",
      "flatten_13 (Flatten)         (None, 10000)             0         \n",
      "_________________________________________________________________\n",
      "dense_19 (Dense)             (None, 32)                320032    \n",
      "_________________________________________________________________\n",
      "dense_20 (Dense)             (None, 1)                 33        \n",
      "=================================================================\n",
      "Total params: 820,165\n",
      "Trainable params: 320,065\n",
      "Non-trainable params: 500,100\n",
      "_________________________________________________________________\n",
      "Train on 1800 samples, validate on 200 samples\n",
      "Epoch 1/20\n",
      "1800/1800 [==============================] - 3s 2ms/step - loss: 0.7240 - val_loss: 0.6966\n",
      "Epoch 2/20\n",
      "1800/1800 [==============================] - 2s 911us/step - loss: 0.5844 - val_loss: 0.8027\n",
      "Epoch 3/20\n",
      "1800/1800 [==============================] - 1s 750us/step - loss: 0.3095 - val_loss: 0.9353\n",
      "Epoch 4/20\n",
      "1800/1800 [==============================] - 2s 852us/step - loss: 0.1425 - val_loss: 1.1117\n",
      "Epoch 5/20\n",
      "1800/1800 [==============================] - 1s 744us/step - loss: 0.0533 - val_loss: 1.2846\n",
      "Epoch 6/20\n",
      "1800/1800 [==============================] - 2s 898us/step - loss: 0.0262 - val_loss: 1.4091\n",
      "Epoch 7/20\n",
      "1800/1800 [==============================] - 2s 964us/step - loss: 0.0124 - val_loss: 1.4069\n",
      "Epoch 8/20\n",
      "1800/1800 [==============================] - 1s 784us/step - loss: 0.0073 - val_loss: 1.7012\n",
      "Epoch 9/20\n",
      "1800/1800 [==============================] - 2s 911us/step - loss: 0.0082 - val_loss: 1.7256\n",
      "Epoch 10/20\n",
      "1800/1800 [==============================] - 1s 823us/step - loss: 0.0046 - val_loss: 1.9993\n",
      "Epoch 11/20\n",
      "1800/1800 [==============================] - 2s 882us/step - loss: 0.0073 - val_loss: 2.0787\n",
      "Epoch 12/20\n",
      "1800/1800 [==============================] - 2s 922us/step - loss: 0.0050 - val_loss: 2.2286\n",
      "Epoch 13/20\n",
      "1800/1800 [==============================] - 1s 668us/step - loss: 0.0032 - val_loss: 2.3028\n",
      "Epoch 14/20\n",
      "1800/1800 [==============================] - 1s 754us/step - loss: 0.0013 - val_loss: 2.7670\n",
      "Epoch 15/20\n",
      "1800/1800 [==============================] - 2s 853us/step - loss: 0.0032 - val_loss: 2.6528\n",
      "Epoch 16/20\n",
      "1800/1800 [==============================] - 2s 911us/step - loss: 0.0027 - val_loss: 2.7356\n",
      "Epoch 17/20\n",
      "1800/1800 [==============================] - 1s 664us/step - loss: 0.0046 - val_loss: 2.8281\n",
      "Epoch 18/20\n",
      "1800/1800 [==============================] - 2s 889us/step - loss: 0.0028 - val_loss: 2.9292\n",
      "Epoch 19/20\n",
      "1800/1800 [==============================] - 2s 854us/step - loss: 0.0028 - val_loss: 3.1703\n",
      "Epoch 20/20\n",
      "1800/1800 [==============================] - 1s 700us/step - loss: 0.0048 - val_loss: 2.9740\n"
     ]
    }
   ],
   "source": [
    "from keras.models import Model\n",
    "from keras.layers import Embedding, Flatten, Dense, Input, \n",
    "\n",
    "# write your code here\n",
    "\n",
    "#create the imbed layer with the weights defined by the embedidng matrix and trainable attribute to false\n",
    "embed_layer = Embedding(input_dim=embed_matrix.shape[0],output_dim=embed_matrix.shape[1], \n",
    "                        input_length=100, weights=[embed_matrix],trainable=False, mask_zero=False)\n",
    "\n",
    "#create a sequential network model with embedding layer and a feedforeward layer with 32 neurons\n",
    "i = Input(shape=(100,), dtype='int32')\n",
    "x = embed_layer(i)\n",
    "x = Flatten()(x)\n",
    "o = Dense(1, activation='sigmoid')(x)\n",
    "\n",
    "model = Model(inputs=i, outputs=o)\n",
    "model.compile(loss='binary_crossentropy', optimizer='rmsprop')\n",
    "# fit network\n",
    "model.summary()\n",
    "\n",
    "history = model.fit(tk_train_x, train_y, verbose=1, batch_size=32, epochs=20,\n",
    "                    validation_data=(tk_valid_x, valid_y))"
   ]
  },
  {
   "cell_type": "markdown",
   "metadata": {},
   "source": [
    "#### e) Plot the training and validation loss and accuracies and evaluate the trained model on the test set.\n",
    "\n",
    "What do you observe from the results?"
   ]
  },
  {
   "cell_type": "code",
   "execution_count": 46,
   "metadata": {},
   "outputs": [
    {
     "data": {
      "image/png": "[encoded data removed]",
      "text/plain": [
       "<Figure size 432x288 with 1 Axes>"
      ]
     },
     "metadata": {
      "needs_background": "light"
     },
     "output_type": "display_data"
    },
    {
     "name": "stdout",
     "output_type": "stream",
     "text": [
      "              precision    recall  f1-score   support\n",
      "\n",
      "           0       0.49      0.48      0.49      1000\n",
      "           1       0.50      0.51      0.50      1000\n",
      "\n",
      "   micro avg       0.49      0.49      0.49      2000\n",
      "   macro avg       0.49      0.49      0.49      2000\n",
      "weighted avg       0.49      0.49      0.49      2000\n",
      "\n",
      "0.495\n"
     ]
    }
   ],
   "source": [
    "import matplotlib.pyplot as plt\n",
    "from sklearn.metrics import accuracy_score, classification_report\n",
    "\n",
    "# write your code here\n",
    "#plot training and validation loss and accuracy histoties\n",
    "plt.plot(history.history['loss'], label='train')\n",
    "plt.plot(history.history['val_loss'], label='test')\n",
    "plt.legend()\n",
    "plt.show()\n",
    "\n",
    "#predict the sentiment for test dataset and print the classification report \n",
    "pred_test_y=model.predict(np.array(tk_test_x), batch_size=32)\n",
    "print(classification_report(test_y,pred_test_y.round()))\n",
    "print(accuracy_score(test_y,pred_test_y.round()))\n",
    "\n",
    "#from the results we see that the network overfits grossly on the training data "
   ]
  },
  {
   "cell_type": "markdown",
   "metadata": {},
   "source": [
    "#### f) Add an LSTM layer into the simple neural network architecture and re-train the model on the training set, plot the training and validation loss/accuracies, also evaluate the trained model on the test set and report the result."
   ]
  },
  {
   "cell_type": "code",
   "execution_count": 69,
   "metadata": {},
   "outputs": [
    {
     "name": "stdout",
     "output_type": "stream",
     "text": [
      "_________________________________________________________________\n",
      "Layer (type)                 Output Shape              Param #   \n",
      "=================================================================\n",
      "input_36 (InputLayer)        (None, 100)               0         \n",
      "_________________________________________________________________\n",
      "embedding_36 (Embedding)     (None, 100, 100)          500100    \n",
      "_________________________________________________________________\n",
      "lstm_22 (LSTM)               (None, 24)                12000     \n",
      "_________________________________________________________________\n",
      "dropout_16 (Dropout)         (None, 24)                0         \n",
      "_________________________________________________________________\n",
      "dense_49 (Dense)             (None, 1)                 25        \n",
      "=================================================================\n",
      "Total params: 512,125\n",
      "Trainable params: 12,025\n",
      "Non-trainable params: 500,100\n",
      "_________________________________________________________________\n",
      "Train on 1800 samples, validate on 200 samples\n",
      "Epoch 1/20\n",
      "1800/1800 [==============================] - 30s 17ms/step - loss: 4.1147 - val_loss: 3.1310\n",
      "Epoch 2/20\n",
      "1800/1800 [==============================] - 9s 5ms/step - loss: 2.5671 - val_loss: 2.0009\n",
      "Epoch 3/20\n",
      "1800/1800 [==============================] - 5s 3ms/step - loss: 1.6468 - val_loss: 1.3094\n",
      "Epoch 4/20\n",
      "1800/1800 [==============================] - 5s 3ms/step - loss: 1.1077 - val_loss: 0.9276\n",
      "Epoch 5/20\n",
      "1800/1800 [==============================] - 6s 3ms/step - loss: 0.8363 - val_loss: 0.7598\n",
      "Epoch 6/20\n",
      "1800/1800 [==============================] - 7s 4ms/step - loss: 0.7302 - val_loss: 0.7103\n",
      "Epoch 7/20\n",
      "1800/1800 [==============================] - 6s 3ms/step - loss: 0.7052 - val_loss: 0.7013\n",
      "Epoch 8/20\n",
      "1800/1800 [==============================] - 6s 3ms/step - loss: 0.7000 - val_loss: 0.7006\n",
      "Epoch 9/20\n",
      "1800/1800 [==============================] - 6s 3ms/step - loss: 0.6976 - val_loss: 0.6993\n",
      "Epoch 10/20\n",
      "1800/1800 [==============================] - 6s 3ms/step - loss: 0.6973 - val_loss: 0.6980\n",
      "Epoch 11/20\n",
      "1800/1800 [==============================] - 6s 3ms/step - loss: 0.6955 - val_loss: 0.6980\n",
      "Epoch 12/20\n",
      "1800/1800 [==============================] - 6s 3ms/step - loss: 0.6957 - val_loss: 0.7004\n",
      "Epoch 13/20\n",
      "1800/1800 [==============================] - 5s 3ms/step - loss: 0.6956 - val_loss: 0.6988\n",
      "Epoch 14/20\n",
      "1800/1800 [==============================] - 6s 3ms/step - loss: 0.6948 - val_loss: 0.6990\n",
      "Epoch 15/20\n",
      "1800/1800 [==============================] - 7s 4ms/step - loss: 0.6958 - val_loss: 0.6990\n",
      "Epoch 16/20\n",
      "1800/1800 [==============================] - 7s 4ms/step - loss: 0.6944 - val_loss: 0.6980\n",
      "Epoch 17/20\n",
      "1800/1800 [==============================] - 6s 3ms/step - loss: 0.6951 - val_loss: 0.6979\n",
      "Epoch 18/20\n",
      "1800/1800 [==============================] - 10s 5ms/step - loss: 0.6950 - val_loss: 0.6981\n",
      "Epoch 19/20\n",
      "1800/1800 [==============================] - 9s 5ms/step - loss: 0.6946 - val_loss: 0.6983\n",
      "Epoch 20/20\n",
      "1800/1800 [==============================] - 7s 4ms/step - loss: 0.6946 - val_loss: 0.7006\n"
     ]
    },
    {
     "data": {
      "image/png": "[encoded data removed]",
      "text/plain": [
       "<Figure size 432x288 with 1 Axes>"
      ]
     },
     "metadata": {
      "needs_background": "light"
     },
     "output_type": "display_data"
    },
    {
     "name": "stdout",
     "output_type": "stream",
     "text": [
      "              precision    recall  f1-score   support\n",
      "\n",
      "           0       0.49      0.02      0.04      1000\n",
      "           1       0.50      0.98      0.66      1000\n",
      "\n",
      "   micro avg       0.50      0.50      0.50      2000\n",
      "   macro avg       0.49      0.50      0.35      2000\n",
      "weighted avg       0.49      0.50      0.35      2000\n",
      "\n",
      "0.4995\n"
     ]
    }
   ],
   "source": [
    "from keras.layers import LSTM, regularizers, Dropout\n",
    "\n",
    "# write your code here\n",
    "embed_layer = Embedding(input_dim=embed_matrix.shape[0],output_dim=embed_matrix.shape[1], \n",
    "                        input_length=100, weights=[embed_matrix],trainable=False, mask_zero=True)\n",
    "\n",
    "\n",
    "#create a sequential network model with embedding layer and a LSTM layer with 32 neurons\n",
    "#adding weights regulizer and dropout to limit overfitting\n",
    "i = Input(shape=(100,), dtype='int32')\n",
    "x = embed_layer(i)\n",
    "x = LSTM(24, kernel_regularizer = regularizers.l2(l = 0.05))(x)\n",
    "x =Dropout(0.4)(x)\n",
    "#x = Flatten()(x)\n",
    "o = Dense(1,activation='sigmoid')(x)\n",
    "\n",
    "model = Model(inputs=i, outputs=o)\n",
    "model.compile(loss='binary_crossentropy', optimizer='rmsprop')\n",
    "model.summary()\n",
    "\n",
    "# fit network\n",
    "history = model.fit(tk_train_x, train_y, verbose=1, batch_size=64, epochs=20,\n",
    "                    validation_data=(tk_valid_x, valid_y))\n",
    "\n",
    "#plot training and validation loss and accuracy histoties\n",
    "plt.plot(history.history['loss'], label='train')\n",
    "plt.plot(history.history['val_loss'], label='test')\n",
    "plt.legend()\n",
    "plt.show()\n",
    "\n",
    "#predict the sentiment for test dataset and print the classification report \n",
    "pred_test_y=model.predict(np.array(tk_test_x), batch_size=32)\n",
    "print(classification_report(test_y,pred_test_y.round()))\n",
    "print(accuracy_score(test_y,pred_test_y.round()))"
   ]
  },
  {
   "cell_type": "code",
   "execution_count": null,
   "metadata": {},
   "outputs": [],
   "source": []
  }
 ],
 "metadata": {
  "kernelspec": {
   "display_name": "Python 3",
   "language": "python",
   "name": "python3"
  },
  "language_info": {
   "codemirror_mode": {
    "name": "ipython",
    "version": 3
   },
   "file_extension": ".py",
   "mimetype": "text/x-python",
   "name": "python",
   "nbconvert_exporter": "python",
   "pygments_lexer": "ipython3",
   "version": "3.5.2"
  }
 },
 "nbformat": 4,
 "nbformat_minor": 2
}
