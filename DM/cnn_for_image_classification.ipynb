{
 "cells": [
  {
   "cell_type": "markdown",
   "metadata": {},
   "source": [
    "# CNN for Image Classification\n",
    "\n",
    "In this lab, you are given a dataset containing 6,000 pictures of cats and dogs (3,000 cats, 3,000 dogs) and asked to train a classifier built upon Convolutional Neural Networks (ConvNets) to classify images as \"dogs\" or \"cats\"."
   ]
  },
  {
   "cell_type": "code",
   "execution_count": 2,
   "metadata": {},
   "outputs": [
    {
     "name": "stderr",
     "output_type": "stream",
     "text": [
      "Using TensorFlow backend.\n"
     ]
    }
   ],
   "source": [
    "%matplotlib inline\n",
    "\n",
    "import os\n",
    "import numpy as np\n",
    "import matplotlib.pyplot as plt\n",
    "import cv2\n",
    "\n",
    "import keras\n",
    "from keras import metrics\n",
    "from keras.preprocessing.image import ImageDataGenerator\n",
    "from keras.models import Sequential\n",
    "from keras.layers import Dense, Dropout, Activation, Flatten, BatchNormalization\n",
    "from keras.layers import Conv2D, MaxPooling2D\n",
    "import random"
   ]
  },
  {
   "cell_type": "markdown",
   "metadata": {},
   "source": [
    "### Exercise 1 \n",
    "Split the dataset by selecting 4,800 pictures for training, 600 for validation, and 600 for testing."
   ]
  },
  {
   "cell_type": "code",
   "execution_count": 36,
   "metadata": {},
   "outputs": [],
   "source": [
    "img_width = 50\n",
    "img_height = 50\n",
    "num_classes = 2\n",
    "DATA_DIR = './data/'\n",
    "image_filenames = [DATA_DIR+i for i in os.listdir(DATA_DIR)] # use this for full dataset\n",
    "# Split the data in three sets, 80% for training, 10% for validation and 10% for testing\n",
    "# make sure that the image filenames have a fixed order before shuffling\n",
    "# Add your code here\n",
    "\n",
    "random.shuffle(image_filenames)\n",
    "x, y=[],[]\n",
    "\n",
    "#append each image file to x and each label to y\n",
    "for img in image_filenames:\n",
    "    #reading image into array and then resize it to 50x50 #OPT: interpolation=INTER_AREA\n",
    "    x.append(cv2.resize(cv2.imread(img),(img_height, img_width)))\n",
    "    #use file name to detect label and appaend it to y\n",
    "    if 'cat' in img:\n",
    "        y.append(0)\n",
    "    else:\n",
    "        y.append(1)\n",
    "\n",
    "#split the dats into trait, test and validation\n",
    "x_train,x_test,x_valid=x[0:4800],x[4800:5400],x[5400:6000]\n",
    "y_train,y_test,y_valid=y[0:4800],y[4800:5400],y[5400:6000]\n"
   ]
  },
  {
   "cell_type": "markdown",
   "metadata": {},
   "source": [
    "### Exercise 2\n",
    "Train a Convolutional Neural Network (ConvNet) on the training set. The general structure of the ConvNet will be a stack of alternated Conv2D (with relu activation) and MaxPooling2D layers. A Conv2D layer creates a convolution kernel that is convolved with the layer input to produce a tensor of outputs. A MaxPooling2D layer is used to downscale input in both the vertical and horizontal dimensions."
   ]
  },
  {
   "cell_type": "code",
   "execution_count": 10,
   "metadata": {},
   "outputs": [
    {
     "name": "stdout",
     "output_type": "stream",
     "text": [
      "_________________________________________________________________\n",
      "Layer (type)                 Output Shape              Param #   \n",
      "=================================================================\n",
      "conv2d_2 (Conv2D)            (None, 48, 48, 15)        420       \n",
      "_________________________________________________________________\n",
      "activation_4 (Activation)    (None, 48, 48, 15)        0         \n",
      "_________________________________________________________________\n",
      "max_pooling2d_2 (MaxPooling2 (None, 24, 24, 15)        0         \n",
      "_________________________________________________________________\n",
      "flatten_2 (Flatten)          (None, 8640)              0         \n",
      "_________________________________________________________________\n",
      "dense_3 (Dense)              (None, 25)                216025    \n",
      "_________________________________________________________________\n",
      "activation_5 (Activation)    (None, 25)                0         \n",
      "_________________________________________________________________\n",
      "dense_4 (Dense)              (None, 1)                 26        \n",
      "_________________________________________________________________\n",
      "activation_6 (Activation)    (None, 1)                 0         \n",
      "=================================================================\n",
      "Total params: 216,471\n",
      "Trainable params: 216,471\n",
      "Non-trainable params: 0\n",
      "_________________________________________________________________\n",
      "Epoch 1/10\n",
      "300/300 [==============================] - 33s 110ms/step - loss: 0.6666 - acc: 0.5915 - val_loss: 0.6277 - val_acc: 0.6706\n",
      "Epoch 2/10\n",
      "300/300 [==============================] - 32s 107ms/step - loss: 0.6194 - acc: 0.6658 - val_loss: 0.5916 - val_acc: 0.6832\n",
      "Epoch 3/10\n",
      "300/300 [==============================] - 36s 119ms/step - loss: 0.5897 - acc: 0.6885 - val_loss: 0.5772 - val_acc: 0.6952\n",
      "Epoch 4/10\n",
      "300/300 [==============================] - 34s 114ms/step - loss: 0.5715 - acc: 0.7021 - val_loss: 0.5625 - val_acc: 0.7209\n",
      "Epoch 5/10\n",
      "300/300 [==============================] - 34s 112ms/step - loss: 0.5426 - acc: 0.7181 - val_loss: 0.5384 - val_acc: 0.7414\n",
      "Epoch 6/10\n",
      "300/300 [==============================] - 31s 104ms/step - loss: 0.5361 - acc: 0.7310 - val_loss: 0.5574 - val_acc: 0.7123\n",
      "Epoch 7/10\n",
      "300/300 [==============================] - 32s 105ms/step - loss: 0.5307 - acc: 0.7363 - val_loss: 0.5641 - val_acc: 0.7038\n",
      "Epoch 8/10\n",
      "300/300 [==============================] - 34s 112ms/step - loss: 0.5205 - acc: 0.7408 - val_loss: 0.5506 - val_acc: 0.7226\n",
      "Epoch 9/10\n",
      "300/300 [==============================] - 33s 111ms/step - loss: 0.5107 - acc: 0.7456 - val_loss: 0.5531 - val_acc: 0.7260\n",
      "Epoch 10/10\n",
      "300/300 [==============================] - 34s 114ms/step - loss: 0.5130 - acc: 0.7419 - val_loss: 0.5406 - val_acc: 0.7363\n"
     ]
    }
   ],
   "source": [
    "# Add your code here\n",
    "batch=16\n",
    "epochs=10\n",
    "\n",
    "model =Sequential()\n",
    "#add a convolutional layer with 15 4x4 filters and a relu activation \n",
    "model.add(Conv2D(15,(3,3), input_shape=(img_height,img_width,3)))\n",
    "model.add(Activation('relu'))\n",
    "model.add(MaxPooling2D(pool_size=(2,2)))\n",
    "model.add(Flatten())\n",
    "#add a feedforeward layer with 25 neurons and a relu\n",
    "model.add(Dense(25))\n",
    "model.add(Activation('relu'))\n",
    "model.add(Dropout(0.5))\n",
    "model.add(Dense(1))\n",
    "#at the output layer is a sigmoid funtion \n",
    "model.add(Activation('sigmoid'))\n",
    "#compile the model with abinary coress entropy loss functiona nd rms prop optimizer\n",
    "model.compile(loss='binary_crossentropy',optimizer='adam', metrics=['accuracy'])\n",
    "model.summary()\n",
    "\n",
    "#create the data generator objects  for training and validation data\n",
    "Gen=ImageDataGenerator(rescale=1./255,rotation_range=40, fill_mode='nearest')\n",
    "trainGen=Gen.flow(np.array(x_train), y_train, batch_size=batch, shuffle=False)\n",
    "validGen=Gen.flow(np.array(x_valid), y_valid, batch_size=batch, shuffle=False)\n",
    "\n",
    "#fit mdoel\n",
    "history = model.fit_generator(trainGen, steps_per_epoch=4800//batch, epochs=epochs,\n",
    "    validation_data=validGen, validation_steps=600//batch )"
   ]
  },
  {
   "cell_type": "markdown",
   "metadata": {},
   "source": [
    "### Exercise 3\n",
    "\n",
    "Output the training/validation loss and accuracy curves. Also print the classification results (e.g., classification accuracy, confusion matrix, precision-recall curves and/or ROC curves) on the test set."
   ]
  },
  {
   "cell_type": "code",
   "execution_count": 15,
   "metadata": {},
   "outputs": [
    {
     "data": {
      "image/png": "[encoded data removed]",
      "text/plain": [
       "<Figure size 432x288 with 2 Axes>"
      ]
     },
     "metadata": {
      "needs_background": "light"
     },
     "output_type": "display_data"
    },
    {
     "name": "stdout",
     "output_type": "stream",
     "text": [
      "              precision    recall  f1-score   support\n",
      "\n",
      "           0       0.80      0.32      0.45       281\n",
      "           1       0.61      0.93      0.74       319\n",
      "\n",
      "   micro avg       0.64      0.64      0.64       600\n",
      "   macro avg       0.70      0.62      0.59       600\n",
      "weighted avg       0.70      0.64      0.60       600\n",
      "\n",
      "[[ 89 192]\n",
      " [ 22 297]]\n",
      "0.6433333333333333\n"
     ]
    },
    {
     "data": {
      "image/png": "[encoded data removed]",
      "text/plain": [
       "<Figure size 432x288 with 2 Axes>"
      ]
     },
     "metadata": {
      "needs_background": "light"
     },
     "output_type": "display_data"
    }
   ],
   "source": [
    "from sklearn.metrics import accuracy_score, classification_report, confusion_matrix, precision_recall_curve, roc_curve\n",
    "\n",
    "# Add your code here\n",
    "\n",
    "#plot the training and validation loss curves\n",
    "plt.subplot(2, 1, 1)\n",
    "plt.title('loss')\n",
    "plt.plot(history.history['loss'], label='train')\n",
    "plt.plot(history.history['val_loss'], label='test')\n",
    "plt.legend()\n",
    "\n",
    "#plot the training and validation accuracy curves\n",
    "plt.subplot(2, 1, 2)\n",
    "plt.title('accuracy')\n",
    "plt.plot(history.history['acc'], label='train')\n",
    "plt.plot(history.history['val_acc'], label='test')\n",
    "plt.legend()\n",
    "plt.show()\n",
    "\n",
    "#saving the prediction probabilities in pred_train_y and pred_valid_Y\n",
    "pred_test_y=model.predict(np.array(x_test), batch_size=batch)\n",
    "\n",
    "#outputing the classification report, accuracy and the confusion matrix of the training dataset\n",
    "print(classification_report(y_test,pred_test_y.round()))\n",
    "print(confusion_matrix(y_test,pred_test_y.round()))\n",
    "print(accuracy_score(y_test,pred_test_y.round()))\n",
    "\n",
    "#find the percision, true positive rates, and false negative rates\n",
    "p,r,_=precision_recall_curve(y_test,pred_test_y)\n",
    "fpr, tpr, _=roc_curve(y_test,pred_test_y)\n",
    "\n",
    "#plot the pervision vs recall\n",
    "plt.figure()\n",
    "plt.subplot(2, 1, 1)\n",
    "plt.title('Percision vs Recall')\n",
    "plt.plot(p,r, label='train')\n",
    "plt.legend()\n",
    "\n",
    "#plot the false positive rate vs true positive rate\n",
    "plt.subplot(2, 1, 2)\n",
    "plt.title('false positives vs false negatives')\n",
    "plt.plot(fpr, tpr, label='train')\n",
    "plt.legend()\n",
    "plt.show()\n"
   ]
  },
  {
   "cell_type": "markdown",
   "metadata": {},
   "source": [
    "### Exercise 4\n",
    "\n",
    "Explore different network architectures (e.g., stacking 4 Conv2D+MaxPooling2D layers) and various ways in tuning the model parameters to see if you can improve the model performance on the validation set."
   ]
  },
  {
   "cell_type": "code",
   "execution_count": null,
   "metadata": {
    "scrolled": true
   },
   "outputs": [
    {
     "name": "stdout",
     "output_type": "stream",
     "text": [
      "_________________________________________________________________\n",
      "Layer (type)                 Output Shape              Param #   \n",
      "=================================================================\n",
      "conv2d_87 (Conv2D)           (None, 48, 48, 20)        560       \n",
      "_________________________________________________________________\n",
      "activation_147 (Activation)  (None, 48, 48, 20)        0         \n",
      "_________________________________________________________________\n",
      "conv2d_88 (Conv2D)           (None, 46, 46, 24)        4344      \n",
      "_________________________________________________________________\n",
      "activation_148 (Activation)  (None, 46, 46, 24)        0         \n",
      "_________________________________________________________________\n",
      "max_pooling2d_54 (MaxPooling (None, 23, 23, 24)        0         \n",
      "_________________________________________________________________\n",
      "conv2d_89 (Conv2D)           (None, 21, 21, 32)        6944      \n",
      "_________________________________________________________________\n",
      "activation_149 (Activation)  (None, 21, 21, 32)        0         \n",
      "_________________________________________________________________\n",
      "max_pooling2d_55 (MaxPooling (None, 7, 7, 32)          0         \n",
      "_________________________________________________________________\n",
      "flatten_31 (Flatten)         (None, 1568)              0         \n",
      "_________________________________________________________________\n",
      "dense_61 (Dense)             (None, 32)                50208     \n",
      "_________________________________________________________________\n",
      "activation_150 (Activation)  (None, 32)                0         \n",
      "_________________________________________________________________\n",
      "dense_62 (Dense)             (None, 1)                 33        \n",
      "_________________________________________________________________\n",
      "activation_151 (Activation)  (None, 1)                 0         \n",
      "=================================================================\n",
      "Total params: 62,089\n",
      "Trainable params: 62,089\n",
      "Non-trainable params: 0\n",
      "_________________________________________________________________\n",
      "Epoch 1/10\n",
      "220/300 [=====================>........] - ETA: 15s - loss: 0.6945 - acc: 0.5202"
     ]
    }
   ],
   "source": [
    "# Add your code here\n",
    "batch=16\n",
    "epochs=10\n",
    "\n",
    "#stack 3 conv layers, the first without a pooling layer\n",
    "model = Sequential()\n",
    "model.add(Conv2D(20,(3,3), input_shape=(img_height,img_width,3)))\n",
    "model.add(Activation('relu'))\n",
    "#model.add(MaxPooling2D(pool_size=(2, 2)))\n",
    "\n",
    "model.add(Conv2D(24, (3, 3)))\n",
    "model.add(Activation('relu'))\n",
    "model.add(MaxPooling2D(pool_size=(2, 2)))\n",
    "\n",
    "\n",
    "model.add(Conv2D(32, (3, 3)))\n",
    "model.add(Activation('relu'))\n",
    "model.add(MaxPooling2D(pool_size=(3, 3)))\n",
    "model.add(Flatten())\n",
    "\n",
    "#add a feedforeward layer with 16 neurons \n",
    "model.add(Dense(32))\n",
    "model.add(Activation('relu'))\n",
    "model.add(Dense(1))\n",
    "model.add(Activation('sigmoid'))\n",
    "model.compile(loss='binary_crossentropy', optimizer='adam', metrics=['accuracy'])\n",
    "\n",
    "model.summary()\n",
    "\n",
    "Gen=ImageDataGenerator(rescale=1./255,rotation_range=40, fill_mode='nearest')\n",
    "trainGen=Gen.flow(np.array(x_train), y_train, batch_size=batch, shuffle=False)\n",
    "validGen=Gen.flow(np.array(x_valid), y_valid, batch_size=batch, shuffle=False)\n",
    "\n",
    "history = model.fit_generator(\n",
    "    trainGen, \n",
    "    steps_per_epoch=4800//batch,\n",
    "    epochs=epochs,\n",
    "    validation_data=validGen,\n",
    "    validation_steps=600//batch\n",
    ")"
   ]
  },
  {
   "cell_type": "markdown",
   "metadata": {},
   "source": [
    "### Exercise 5\n",
    "\n",
    "Apply the trained model on the testing set and output the classification results."
   ]
  },
  {
   "cell_type": "code",
   "execution_count": 73,
   "metadata": {},
   "outputs": [
    {
     "name": "stdout",
     "output_type": "stream",
     "text": [
      "              precision    recall  f1-score   support\n",
      "\n",
      "           0       0.80      0.46      0.58       301\n",
      "           1       0.62      0.88      0.73       299\n",
      "\n",
      "   micro avg       0.67      0.67      0.67       600\n",
      "   macro avg       0.71      0.67      0.65       600\n",
      "weighted avg       0.71      0.67      0.65       600\n",
      "\n",
      "[[137 164]\n",
      " [ 35 264]]\n",
      "0.6683333333333333\n"
     ]
    },
    {
     "data": {
      "image/png": "[encoded data removed]",
      "text/plain": [
       "<Figure size 432x288 with 2 Axes>"
      ]
     },
     "metadata": {
      "needs_background": "light"
     },
     "output_type": "display_data"
    }
   ],
   "source": [
    "# Add your code here\n",
    "\n",
    "pred_test_y=model.predict(np.array(x_test), batch_size=batch)\n",
    "#outputing the classification report, accuracy and the confusion matrix of the validation dataset\n",
    "print(classification_report(y_test,pred_test_y.round()))\n",
    "print(confusion_matrix(y_test,pred_test_y.round()))\n",
    "print(accuracy_score(y_test,pred_test_y.round()))\n",
    "\n",
    "#find the percision, true positive rates, and false negative rates\n",
    "p,r,_=precision_recall_curve(y_test,pred_test_y)\n",
    "fpr, tpr, _=roc_curve(y_test,pred_test_y)\n",
    "\n",
    "#plot the pervision vs recall\n",
    "plt.figure()\n",
    "plt.subplot(2, 1, 1)\n",
    "plt.title('Percision vs Recall')\n",
    "plt.plot(p,r, label='train')\n",
    "plt.legend()\n",
    "\n",
    "#plot the false positive rate vs true positive rate\n",
    "plt.subplot(2, 1, 2)\n",
    "plt.title('false positives vs false negatives')\n",
    "plt.plot(fpr, tpr, label='train')\n",
    "plt.legend()\n",
    "plt.show()"
   ]
  },
  {
   "cell_type": "markdown",
   "metadata": {},
   "source": [
    "### Exercise 6 \n",
    "\n",
    "Plot the saliency map of original image to see which part is important for making classification decisions. You can refer to the following blog article on how to generate visualisation results of the filters in the ConvNets.\n",
    "https://blog.keras.io/how-convolutional-neural-networks-see-the-world.html"
   ]
  },
  {
   "cell_type": "code",
   "execution_count": null,
   "metadata": {},
   "outputs": [],
   "source": [
    "# Add your code here"
   ]
  }
 ],
 "metadata": {
  "kernelspec": {
   "display_name": "Python 3",
   "language": "python",
   "name": "python3"
  },
  "language_info": {
   "codemirror_mode": {
    "name": "ipython",
    "version": 3
   },
   "file_extension": ".py",
   "mimetype": "text/x-python",
   "name": "python",
   "nbconvert_exporter": "python",
   "pygments_lexer": "ipython3",
   "version": "3.5.2"
  }
 },
 "nbformat": 4,
 "nbformat_minor": 1
}
